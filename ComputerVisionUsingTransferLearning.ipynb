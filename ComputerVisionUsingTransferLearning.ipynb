{
 "cells": [
  {
   "cell_type": "markdown",
   "metadata": {
    "id": "C-BeOChlfOfY"
   },
  },
  {
   "cell_type": "code",
   "execution_count": 1,
   "metadata": {
    "id": "rENMVFFibA3H"
   },
   "outputs": [],
   "source": [
    "# Insert your name, your id, course title, assignment id, and due date here as comment \n",
    "# Name: Manh Sy\n",
    "# Assignment ID: CSC 180 Project 3\n",
    "# Due Date: April 2nd, 2021"
   ]
  },
  {
   "cell_type": "markdown",
   "metadata": {
    "id": "LlFpkRqpfOfa"
   },
   "source": [
    "\n",
    "## Helpful Functions for Tensorflow (Little Gems)\n",
    "\n",
    "The following functions will be used with TensorFlow to help preprocess the data.  They allow you to build the feature vector for a neural network. \n",
    "\n",
    "* Predictors/Inputs \n",
    "    * Fill any missing inputs with the median for that column.  Use **missing_median**.\n",
    "    * Encode textual/categorical values with **encode_text_dummy**.\n",
    "    * Encode numeric values with **encode_numeric_zscore**.\n",
    "* Output\n",
    "    * Discard rows with missing outputs.\n",
    "    * Encode textual/categorical values with **encode_text_index**.\n",
    "    * Do not encode output numeric values.\n",
    "* Produce final feature vectors (x) and expected output (y) with **to_xy**."
   ]
  },
  {
   "cell_type": "code",
   "execution_count": 2,
   "metadata": {
    "id": "FOddo2bbfOfb"
   },
   "outputs": [],
   "source": [
    "from collections.abc import Sequence\n",
    "from sklearn import preprocessing\n",
    "import matplotlib.pyplot as plt\n",
    "import numpy as np\n",
    "import pandas as pd\n",
    "import shutil\n",
    "import os\n",
    "\n",
    "\n",
    "# Encode text values to dummy variables(i.e. [1,0,0],[0,1,0],[0,0,1] for red,green,blue)\n",
    "def encode_text_dummy(df, name):\n",
    "    dummies = pd.get_dummies(df[name])\n",
    "    for x in dummies.columns:\n",
    "        dummy_name = \"{}-{}\".format(name, x)\n",
    "        df[dummy_name] = dummies[x]\n",
    "    df.drop(name, axis=1, inplace=True)\n",
    "\n",
    "\n",
    "# Encode text values to indexes(i.e. [1],[2],[3] for red,green,blue).\n",
    "def encode_text_index(df, name):\n",
    "    le = preprocessing.LabelEncoder()\n",
    "    df[name] = le.fit_transform(df[name])\n",
    "    return le.classes_\n",
    "\n",
    "\n",
    "# Encode a numeric column as zscores\n",
    "def encode_numeric_zscore(df, name, mean=None, sd=None):\n",
    "    if mean is None:\n",
    "        mean = df[name].mean()\n",
    "\n",
    "    if sd is None:\n",
    "        sd = df[name].std()\n",
    "\n",
    "    df[name] = (df[name] - mean) / sd\n",
    "\n",
    "\n",
    "# Convert all missing values in the specified column to the median\n",
    "def missing_median(df, name):\n",
    "    med = df[name].median()\n",
    "    df[name] = df[name].fillna(med)\n",
    "\n",
    "\n",
    "# Convert all missing values in the specified column to the default\n",
    "def missing_default(df, name, default_value):\n",
    "    df[name] = df[name].fillna(default_value)\n",
    "\n",
    "\n",
    "# Convert a Pandas dataframe to the x,y inputs that TensorFlow needs\n",
    "def to_xy(df, target):\n",
    "    result = []\n",
    "    for x in df.columns:\n",
    "        if x != target:\n",
    "            result.append(x)\n",
    "    # find out the type of the target column. \n",
    "    target_type = df[target].dtypes\n",
    "    target_type = target_type[0] if isinstance(target_type, Sequence) else target_type\n",
    "    # Encode to int for classification, float otherwise. TensorFlow likes 32 bits.\n",
    "    if target_type in (np.int64, np.int32):\n",
    "        # Classification\n",
    "        dummies = pd.get_dummies(df[target])\n",
    "        return df[result].values.astype(np.float32), dummies.values.astype(np.float32)\n",
    "    else:\n",
    "        # Regression\n",
    "        return df[result].values.astype(np.float32), df[target].values.astype(np.float32)\n",
    "\n",
    "# Nicely formatted time string\n",
    "def hms_string(sec_elapsed):\n",
    "    h = int(sec_elapsed / (60 * 60))\n",
    "    m = int((sec_elapsed % (60 * 60)) / 60)\n",
    "    s = sec_elapsed % 60\n",
    "    return \"{}:{:>02}:{:>05.2f}\".format(h, m, s)\n",
    "\n",
    "\n",
    "# Regression chart.\n",
    "def chart_regression(pred,y,sort=True):\n",
    "    t = pd.DataFrame({'pred' : pred, 'y' : y.flatten()})\n",
    "    if sort:\n",
    "        t.sort_values(by=['y'],inplace=True)\n",
    "    a = plt.plot(t['y'].tolist(),label='expected')\n",
    "    b = plt.plot(t['pred'].tolist(),label='prediction')\n",
    "    plt.ylabel('output')\n",
    "    plt.legend()\n",
    "    plt.show()\n",
    "\n",
    "# Remove all rows where the specified column is +/- sd standard deviations\n",
    "def remove_outliers(df, name, sd):\n",
    "    drop_rows = df.index[(np.abs(df[name] - df[name].mean()) >= (sd * df[name].std()))]\n",
    "    df.drop(drop_rows, axis=0, inplace=True)\n",
    "\n",
    "\n",
    "# Encode a column to a range between normalized_low and normalized_high.\n",
    "def encode_numeric_range(df, name, normalized_low=-1, normalized_high=1,\n",
    "                         data_low=None, data_high=None):\n",
    "    if data_low is None:\n",
    "        data_low = min(df[name])\n",
    "        data_high = max(df[name])\n",
    "\n",
    "    df[name] = ((df[name] - data_low) / (data_high - data_low)) \\\n",
    "               * (normalized_high - normalized_low) + normalized_low\n"
   ]
  },
  {
   "cell_type": "markdown",
   "metadata": {
    "id": "qU8FIYWRVXM1"
   },
   "source": [
    "## Switch and Verify GPU\n",
    "\n",
    "### To enable GPU backend for your notebook. Runtime->Change runtime type->Hardware Accelerator->GPU."
   ]
  },
  {
   "cell_type": "code",
   "execution_count": 3,
   "metadata": {
    "colab": {
     "base_uri": "https://localhost:8080/",
     "height": 36
    },
    "id": "1s9pBa09U_zJ",
    "outputId": "cd8c4e0b-98ad-4a11-8cb6-56cc4e521ffb"
   },
   "outputs": [
    {
     "data": {
      "application/vnd.google.colaboratory.intrinsic+json": {
       "type": "string"
      },
      "text/plain": [
       "'/device:GPU:0'"
      ]
     },
     "execution_count": 3,
     "metadata": {
      "tags": []
     },
     "output_type": "execute_result"
    }
   ],
   "source": [
    "import tensorflow as tf\n",
    "\n",
    "tf.test.gpu_device_name()"
   ]
  },
  {
   "cell_type": "markdown",
   "metadata": {
    "id": "SFpkSEEDbTag"
   },
   "source": [
    "### If the above code output '/device:GPU:0',  you have switched to GPU successfully and you are ready to go. \n",
    "\n"
   ]
  },
  {
   "cell_type": "markdown",
   "metadata": {
    "collapsed": true,
    "id": "Kv39g9StfOff"
   },
   "source": [
    "## Part I:   Image classification without transfer learning\n",
    "\n",
    "https://www.cs.toronto.edu/~kriz/cifar.html"
   ]
  },
  {
   "cell_type": "code",
   "execution_count": 4,
   "metadata": {
    "id": "0495-SoMfOfg"
   },
   "outputs": [],
   "source": [
    "#  Load cifar-10 data and split it to training and test\n",
    "from tensorflow.keras.datasets import cifar10\n",
    "\n",
    "from tensorflow.keras.models import Sequential\n",
    "from tensorflow.keras.layers import Dense, Dropout, Activation, Flatten\n",
    "from tensorflow.keras.layers import Conv2D, MaxPooling2D\n",
    "\n",
    "num_classes = 10\n",
    "\n",
    "# The data split between train and test sets:\n",
    "(x_train, y_train), (x_test, y_test) = cifar10.load_data()\n"
   ]
  },
  {
   "cell_type": "markdown",
   "metadata": {
    "id": "eP4HKLFM50kl"
   },
   "source": [
    "### Use only 50% of the dataset"
   ]
  },
  {
   "cell_type": "code",
   "execution_count": 5,
   "metadata": {
    "id": "QdZY93jl5mkQ"
   },
   "outputs": [],
   "source": [
    "xt = []\n",
    "bbreak = 0\n",
    "for i in x_train:\n",
    "  if (bbreak == 25000):\n",
    "    break\n",
    "  bbreak = bbreak +1\n",
    "  xt.append(i)\n",
    "x_train = np.asarray(xt)\n",
    "\n",
    "xtt = []\n",
    "bbreak = 0\n",
    "for i in x_test:\n",
    "  if (bbreak == 5000):\n",
    "    break\n",
    "  bbreak = bbreak +1\n",
    "  xtt.append(i)\n",
    "x_test = np.asarray(xtt)\n",
    "\n",
    "\n",
    "yt = []\n",
    "bbreak = 0\n",
    "for i in y_train:\n",
    "  if (bbreak == 25000):\n",
    "    break\n",
    "  bbreak = bbreak +1\n",
    "  yt.append(i)\n",
    "y_train = np.asarray(yt)\n",
    "\n",
    "ytt = []\n",
    "bbreak = 0\n",
    "for i in y_test:\n",
    "  if (bbreak == 5000):\n",
    "    break\n",
    "  bbreak = bbreak +1\n",
    "  ytt.append(i)\n",
    "y_test = np.asarray(ytt)"
   ]
  },
  {
   "cell_type": "code",
   "execution_count": 6,
   "metadata": {
    "colab": {
     "base_uri": "https://localhost:8080/"
    },
    "id": "9DWyVv_efOfj",
    "outputId": "b12dea8d-f521-411c-9af5-fb622044e4b0"
   },
   "outputs": [
    {
     "name": "stdout",
     "output_type": "stream",
     "text": [
      "x_train shape: (25000, 32, 32, 3)\n",
      "y_train shape: (25000, 1)\n",
      "x_test shape: (5000, 32, 32, 3)\n",
      "y_test shape: (5000, 1)\n",
      "25000 train samples\n",
      "5000 test samples\n"
     ]
    }
   ],
   "source": [
    "# print out data shape\n",
    "\n",
    "print('x_train shape:', x_train.shape)\n",
    "print('y_train shape:', y_train.shape)\n",
    "\n",
    "print('x_test shape:', x_test.shape)\n",
    "print('y_test shape:', y_test.shape)\n",
    "\n",
    "\n",
    "print(x_train.shape[0], 'train samples')\n",
    "print(x_test.shape[0], 'test samples')\n",
    "\n"
   ]
  },
  {
   "cell_type": "code",
   "execution_count": 7,
   "metadata": {
    "colab": {
     "base_uri": "https://localhost:8080/"
    },
    "id": "5_Z_IKevu2Ji",
    "outputId": "c194ff1b-3e7c-4928-a3de-7017a1a9bbc5"
   },
   "outputs": [
    {
     "data": {
      "text/plain": [
       "array([[[100, 168, 231],\n",
       "        [100, 168, 229],\n",
       "        [101, 167, 230],\n",
       "        ...,\n",
       "        [ 95, 165, 231],\n",
       "        [ 94, 165, 228],\n",
       "        [ 95, 167, 229]],\n",
       "\n",
       "       [[103, 170, 230],\n",
       "        [103, 168, 228],\n",
       "        [104, 168, 226],\n",
       "        ...,\n",
       "        [ 97, 167, 229],\n",
       "        [ 97, 166, 227],\n",
       "        [ 97, 168, 229]],\n",
       "\n",
       "       [[107, 174, 233],\n",
       "        [106, 172, 230],\n",
       "        [106, 173, 229],\n",
       "        ...,\n",
       "        [100, 170, 230],\n",
       "        [100, 170, 230],\n",
       "        [101, 172, 232]],\n",
       "\n",
       "       ...,\n",
       "\n",
       "       [[165, 178, 177],\n",
       "        [159, 170, 167],\n",
       "        [167, 177, 170],\n",
       "        ...,\n",
       "        [ 75, 117, 154],\n",
       "        [ 75, 120, 157],\n",
       "        [ 72, 120, 158]],\n",
       "\n",
       "       [[158, 174, 172],\n",
       "        [173, 186, 182],\n",
       "        [182, 193, 188],\n",
       "        ...,\n",
       "        [ 76, 119, 154],\n",
       "        [ 75, 119, 153],\n",
       "        [ 77, 121, 154]],\n",
       "\n",
       "       [[161, 176, 174],\n",
       "        [162, 176, 172],\n",
       "        [160, 171, 169],\n",
       "        ...,\n",
       "        [ 98, 137, 167],\n",
       "        [129, 160, 183],\n",
       "        [162, 185, 202]]], dtype=uint8)"
      ]
     },
     "execution_count": 7,
     "metadata": {
      "tags": []
     },
     "output_type": "execute_result"
    }
   ],
   "source": [
    "# print out a random image in x_train as numpy array\n",
    "x_train[15]"
   ]
  },
  {
   "cell_type": "code",
   "execution_count": 8,
   "metadata": {
    "colab": {
     "base_uri": "https://localhost:8080/",
     "height": 282
    },
    "id": "cbcMvRhqvWAc",
    "outputId": "abd97959-f740-4c3b-e050-7ff570c6284b"
   },
   "outputs": [
    {
     "data": {
      "text/plain": [
       "<matplotlib.image.AxesImage at 0x7f14f4e2c8d0>"
      ]
     },
     "execution_count": 8,
     "metadata": {
      "tags": []
     },
     "output_type": "execute_result"
    },
    {
     "data": {
      "image/png": "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\n",
      "text/plain": [
       "<Figure size 432x288 with 1 Axes>"
      ]
     },
     "metadata": {
      "needs_background": "light",
      "tags": []
     },
     "output_type": "display_data"
    }
   ],
   "source": [
    "# print it out as image\n",
    "\n",
    "import matplotlib.pyplot as plt\n",
    "\n",
    "plt.imshow(x_train[15])"
   ]
  },
  {
   "cell_type": "code",
   "execution_count": 9,
   "metadata": {
    "id": "qMwUTdqp0rUJ"
   },
   "outputs": [],
   "source": [
    "# Convert y_train from 2D to 1D \n",
    "\n",
    "y_train = y_train.reshape(25000)\n"
   ]
  },
  {
   "cell_type": "code",
   "execution_count": 10,
   "metadata": {
    "colab": {
     "base_uri": "https://localhost:8080/"
    },
    "id": "ojvUNZgG0xVe",
    "outputId": "9ac979f1-c6f5-4a38-b714-d09b80a3ba9d"
   },
   "outputs": [
    {
     "data": {
      "text/plain": [
       "(25000,)"
      ]
     },
     "execution_count": 10,
     "metadata": {
      "tags": []
     },
     "output_type": "execute_result"
    }
   ],
   "source": [
    "y_train.shape\n",
    "\n",
    "# expected output: (50000,)"
   ]
  },
  {
   "cell_type": "code",
   "execution_count": 11,
   "metadata": {
    "id": "HcrolrznfOf2"
   },
   "outputs": [],
   "source": [
    "# Convert y_test from 2D to 1D \n",
    "\n",
    "y_test = y_test.reshape(5000)\n"
   ]
  },
  {
   "cell_type": "code",
   "execution_count": 12,
   "metadata": {
    "colab": {
     "base_uri": "https://localhost:8080/"
    },
    "id": "iT3IYTNqfOf6",
    "outputId": "c3bf1e83-9814-48a5-992c-75866ddd5021"
   },
   "outputs": [
    {
     "data": {
      "text/plain": [
       "(5000,)"
      ]
     },
     "execution_count": 12,
     "metadata": {
      "tags": []
     },
     "output_type": "execute_result"
    }
   ],
   "source": [
    "y_test.shape\n",
    "\n",
    "# expected output: (10000,)"
   ]
  },
  {
   "cell_type": "code",
   "execution_count": 13,
   "metadata": {
    "id": "5-lWtPlHfOf9"
   },
   "outputs": [],
   "source": [
    "# Convert class vectors to one hot format\n",
    "\n",
    "y_train = tf.keras.utils.to_categorical(y_train, num_classes)\n",
    "y_test = tf.keras.utils.to_categorical(y_test, num_classes)"
   ]
  },
  {
   "cell_type": "code",
   "execution_count": 14,
   "metadata": {
    "id": "DFzHf8QefOgC"
   },
   "outputs": [],
   "source": [
    "# Convert data from int to float and normalize it\n",
    "\n",
    "\n",
    "x_train = x_train.astype('float32')\n",
    "x_test = x_test.astype('float32')\n",
    "\n",
    "x_train /= 255\n",
    "x_test /= 255"
   ]
  },
  {
   "cell_type": "markdown",
   "metadata": {
    "id": "QXXjBVW1lDt1"
   },
   "source": [
    "###  Write your code in the cell below to create a CNN model which contains the following types of operations (layers):   \n",
    "\n",
    "- Conv2D\n",
    "- Activation\n",
    "- MaxPooling2D\n",
    "- Flatten\n",
    "- Dropout\n",
    "- Dense\n",
    "\n",
    "### (optional) You are also encouraged to create multiple models with different activiation functions, different numbers of neurons and layers for performance comparison."
   ]
  },
  {
   "cell_type": "code",
   "execution_count": 15,
   "metadata": {
    "id": "grVEwQfQfOgE"
   },
   "outputs": [],
   "source": [
    "model = Sequential()\n",
    "model.add(Conv2D(32, (3, 3), padding='same', input_shape=x_train.shape[1:]))\n",
    "model.add(Activation('relu'))\n",
    "model.add(MaxPooling2D(pool_size=(2, 2)))\n",
    "model.add(Dropout(0.25))\n",
    "\n",
    "model.add(Conv2D(64, (3, 3), padding='same'))\n",
    "model.add(Activation('relu'))\n",
    "model.add(MaxPooling2D(pool_size=(2, 2)))\n",
    "model.add(Dropout(0.25))\n",
    "\n",
    "model.add(Flatten())\n",
    "model.add(Dense(512))\n",
    "model.add(Activation('relu'))\n",
    "model.add(Dropout(0.5))\n",
    "\n",
    "model.add(Dense(num_classes, activation=\"softmax\"))"
   ]
  },
  {
   "cell_type": "code",
   "execution_count": 16,
   "metadata": {
    "colab": {
     "base_uri": "https://localhost:8080/"
    },
    "id": "FekC4kgffOgG",
    "outputId": "1c11d600-7c95-4114-c5dc-03b653fb4220"
   },
   "outputs": [
    {
     "name": "stdout",
     "output_type": "stream",
     "text": [
      "Model: \"sequential\"\n",
      "_________________________________________________________________\n",
      "Layer (type)                 Output Shape              Param #   \n",
      "=================================================================\n",
      "conv2d (Conv2D)              (None, 32, 32, 32)        896       \n",
      "_________________________________________________________________\n",
      "activation (Activation)      (None, 32, 32, 32)        0         \n",
      "_________________________________________________________________\n",
      "max_pooling2d (MaxPooling2D) (None, 16, 16, 32)        0         \n",
      "_________________________________________________________________\n",
      "dropout (Dropout)            (None, 16, 16, 32)        0         \n",
      "_________________________________________________________________\n",
      "conv2d_1 (Conv2D)            (None, 16, 16, 64)        18496     \n",
      "_________________________________________________________________\n",
      "activation_1 (Activation)    (None, 16, 16, 64)        0         \n",
      "_________________________________________________________________\n",
      "max_pooling2d_1 (MaxPooling2 (None, 8, 8, 64)          0         \n",
      "_________________________________________________________________\n",
      "dropout_1 (Dropout)          (None, 8, 8, 64)          0         \n",
      "_________________________________________________________________\n",
      "flatten (Flatten)            (None, 4096)              0         \n",
      "_________________________________________________________________\n",
      "dense (Dense)                (None, 512)               2097664   \n",
      "_________________________________________________________________\n",
      "activation_2 (Activation)    (None, 512)               0         \n",
      "_________________________________________________________________\n",
      "dropout_2 (Dropout)          (None, 512)               0         \n",
      "_________________________________________________________________\n",
      "dense_1 (Dense)              (None, 10)                5130      \n",
      "=================================================================\n",
      "Total params: 2,122,186\n",
      "Trainable params: 2,122,186\n",
      "Non-trainable params: 0\n",
      "_________________________________________________________________\n"
     ]
    }
   ],
   "source": [
    "# Print model summary\n",
    "\n",
    "model.summary()"
   ]
  },
  {
   "cell_type": "markdown",
   "metadata": {
    "id": "uVNwHr_AmKJi"
   },
   "source": [
    "### Write your code in the cell below for compile, earlystopping and fit. Notice that you should use earlystopping"
   ]
  },
  {
   "cell_type": "code",
   "execution_count": 17,
   "metadata": {
    "colab": {
     "base_uri": "https://localhost:8080/"
    },
    "id": "QUxCqaaZfOgI",
    "outputId": "efe17879-446b-4fb2-f60f-b35916f78ff6"
   },
   "outputs": [
    {
     "name": "stdout",
     "output_type": "stream",
     "text": [
      "Epoch 1/1000\n",
      "391/391 [==============================] - 10s 7ms/step - loss: 1.8894 - val_loss: 1.3971\n",
      "Epoch 2/1000\n",
      "391/391 [==============================] - 2s 5ms/step - loss: 1.3882 - val_loss: 1.1873\n",
      "Epoch 3/1000\n",
      "391/391 [==============================] - 2s 5ms/step - loss: 1.2161 - val_loss: 1.1743\n",
      "Epoch 4/1000\n",
      "391/391 [==============================] - 2s 5ms/step - loss: 1.1153 - val_loss: 1.0242\n",
      "Epoch 5/1000\n",
      "391/391 [==============================] - 2s 5ms/step - loss: 1.0265 - val_loss: 0.9888\n",
      "Epoch 6/1000\n",
      "391/391 [==============================] - 2s 5ms/step - loss: 0.9564 - val_loss: 0.9355\n",
      "Epoch 7/1000\n",
      "391/391 [==============================] - 2s 5ms/step - loss: 0.9076 - val_loss: 0.9220\n",
      "Epoch 8/1000\n",
      "391/391 [==============================] - 2s 5ms/step - loss: 0.8731 - val_loss: 0.9007\n",
      "Epoch 9/1000\n",
      "391/391 [==============================] - 2s 5ms/step - loss: 0.8123 - val_loss: 0.9039\n",
      "Epoch 10/1000\n",
      "391/391 [==============================] - 2s 5ms/step - loss: 0.7731 - val_loss: 0.8608\n",
      "Epoch 11/1000\n",
      "391/391 [==============================] - 2s 5ms/step - loss: 0.7259 - val_loss: 0.8717\n",
      "Epoch 12/1000\n",
      "391/391 [==============================] - 2s 5ms/step - loss: 0.6987 - val_loss: 0.8631\n",
      "Epoch 13/1000\n",
      "391/391 [==============================] - 2s 5ms/step - loss: 0.6589 - val_loss: 0.8637\n",
      "Epoch 14/1000\n",
      "391/391 [==============================] - 2s 5ms/step - loss: 0.6465 - val_loss: 0.8804\n",
      "Epoch 15/1000\n",
      "391/391 [==============================] - 2s 5ms/step - loss: 0.6039 - val_loss: 0.8474\n",
      "Epoch 16/1000\n",
      "391/391 [==============================] - 2s 5ms/step - loss: 0.5763 - val_loss: 0.8750\n",
      "Epoch 17/1000\n",
      "391/391 [==============================] - 2s 5ms/step - loss: 0.5588 - val_loss: 0.8568\n",
      "Epoch 18/1000\n",
      "391/391 [==============================] - 2s 5ms/step - loss: 0.5347 - val_loss: 0.8641\n",
      "Epoch 19/1000\n",
      "391/391 [==============================] - 2s 5ms/step - loss: 0.5037 - val_loss: 0.9003\n",
      "Epoch 20/1000\n",
      "391/391 [==============================] - 2s 5ms/step - loss: 0.4949 - val_loss: 0.8869\n",
      "Epoch 00020: early stopping\n"
     ]
    },
    {
     "data": {
      "text/plain": [
       "<tensorflow.python.keras.callbacks.History at 0x7f14f2f754d0>"
      ]
     },
     "execution_count": 17,
     "metadata": {
      "tags": []
     },
     "output_type": "execute_result"
    }
   ],
   "source": [
    "from tensorflow.keras.optimizers import Adam\n",
    "from tensorflow.keras.callbacks import EarlyStopping, ModelCheckpoint\n",
    "\n",
    "# define optimizer and objective, compile cnn\n",
    "model.compile(loss=\"categorical_crossentropy\", optimizer='adam')\n",
    "\n",
    "monitor = EarlyStopping(monitor='val_loss', min_delta=1e-3, patience=5, verbose=2, mode='auto')\n",
    "\n",
    "model.fit(x_train,\n",
    "        y_train, \n",
    "        validation_data=(x_test,y_test),\n",
    "        batch_size = 64,\n",
    "        callbacks=[monitor],\n",
    "        verbose=1,\n",
    "        epochs=1000\n",
    "    )"
   ]
  },
  {
   "cell_type": "markdown",
   "metadata": {
    "id": "Xigd26XOoU-F"
   },
   "source": [
    "### Write your code in the cell below to print out the Precision, Recall,  F1 score, and classification_*report*\n",
    "\n",
    "### Include your findings in the project report. "
   ]
  },
  {
   "cell_type": "code",
   "execution_count": 18,
   "metadata": {
    "colab": {
     "base_uri": "https://localhost:8080/"
    },
    "id": "2_92T0bsfOgQ",
    "outputId": "91903d14-97d8-4450-fd12-9dedf1683a1b"
   },
   "outputs": [
    {
     "name": "stdout",
     "output_type": "stream",
     "text": [
      "Precision score: 0.7175720093515522\n",
      "Recall score: 0.7166\n",
      "F1 score: 0.7134679501894788\n",
      "              precision    recall  f1-score   support\n",
      "\n",
      "           0       0.69      0.79      0.74       488\n",
      "           1       0.82      0.87      0.85       505\n",
      "           2       0.70      0.50      0.58       512\n",
      "           3       0.53      0.55      0.54       497\n",
      "           4       0.68      0.61      0.64       507\n",
      "           5       0.61      0.60      0.61       488\n",
      "           6       0.70      0.87      0.78       491\n",
      "           7       0.77      0.78      0.77       495\n",
      "           8       0.82      0.85      0.84       504\n",
      "           9       0.84      0.75      0.79       513\n",
      "\n",
      "    accuracy                           0.72      5000\n",
      "   macro avg       0.72      0.72      0.71      5000\n",
      "weighted avg       0.72      0.72      0.71      5000\n",
      "\n"
     ]
    }
   ],
   "source": [
    "from sklearn import metrics\n",
    "from sklearn.metrics import classification_report\n",
    "\n",
    "pred = model.predict(x_test)\n",
    "pred = np.argmax(pred,axis=1)\n",
    "y_true= np.argmax(y_test,axis=1) \n",
    "\n",
    "#precision score\n",
    "score = metrics.precision_score(y_true, pred, average= \"weighted\")\n",
    "print(\"Precision score: {}\".format(score))\n",
    "\n",
    "#recall score\n",
    "score = metrics.recall_score(y_true, pred, average= \"weighted\")\n",
    "print(\"Recall score: {}\".format(score))\n",
    "\n",
    "#F1 score\n",
    "score = metrics.f1_score(y_true, pred, average= \"weighted\")\n",
    "print(\"F1 score: {}\".format(score))\n",
    "\n",
    "#classification_report\n",
    "print(classification_report(y_true, pred))"
   ]
  },
  {
   "cell_type": "markdown",
   "metadata": {
    "id": "103RRPUvtOie"
   },
   "source": [
    "### Write your code in the cell below to show 3-5 images in the test set as well as their true labels and their labels predicted by your model.\n",
    "\n",
    "### Include your findings in the project report."
   ]
  },
  {
   "cell_type": "code",
   "execution_count": 19,
   "metadata": {
    "id": "EYdH6gzAIILf"
   },
   "outputs": [],
   "source": [
    "imgLabel = [\"airplane\",\"auto mobile\",\"bird\",\"cat\",\"deer\",\"dog\",\"frog\",\"horse\",\"ship\",\"truck\"]"
   ]
  },
  {
   "cell_type": "code",
   "execution_count": 20,
   "metadata": {
    "colab": {
     "base_uri": "https://localhost:8080/",
     "height": 1000
    },
    "id": "xJNMVE25B-K1",
    "outputId": "8244cab4-3b96-4848-8969-544853bb4722"
   },
   "outputs": [
    {
     "name": "stdout",
     "output_type": "stream",
     "text": [
      "Image #3783 True label: bird Predicted Label: airplane\n"
     ]
    },
    {
     "data": {
      "image/png": "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\n",
      "text/plain": [
       "<Figure size 432x288 with 1 Axes>"
      ]
     },
     "metadata": {
      "needs_background": "light",
      "tags": []
     },
     "output_type": "display_data"
    },
    {
     "name": "stdout",
     "output_type": "stream",
     "text": [
      "Image #3517 True label: auto mobile Predicted Label: auto mobile\n"
     ]
    },
    {
     "data": {
      "image/png": "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\n",
      "text/plain": [
       "<Figure size 432x288 with 1 Axes>"
      ]
     },
     "metadata": {
      "needs_background": "light",
      "tags": []
     },
     "output_type": "display_data"
    },
    {
     "name": "stdout",
     "output_type": "stream",
     "text": [
      "Image #4432 True label: horse Predicted Label: horse\n"
     ]
    },
    {
     "data": {
      "image/png": "iVBORw0KGgoAAAANSUhEUgAAAPsAAAD5CAYAAADhukOtAAAABHNCSVQICAgIfAhkiAAAAAlwSFlzAAALEgAACxIB0t1+/AAAADh0RVh0U29mdHdhcmUAbWF0cGxvdGxpYiB2ZXJzaW9uMy4yLjIsIGh0dHA6Ly9tYXRwbG90bGliLm9yZy+WH4yJAAAfrUlEQVR4nO2da4yc53Xf/2dm3pnZ2dkrl1yuSEqkKFmiJEuUshbsWFUdO4llxa2sIjBsoK4+qFFQ2EANpB8EF6hdoB+corbhD4VbuhaiBK4vjWVYSJ0mihDDcSJIom7UhbYuFO/kLrnc++7cTz/MKKCU5//sirs7S+v9/wCCu8/Z533PPPOeeWee/5xzzN0hhHjvk9lsB4QQ3UHBLkRKULALkRIU7EKkBAW7EClBwS5ESsitZbKZ3QXgmwCyAP6Xu3819vel3rwPDpaCtnqzTudlshYcz2b5a1Wr2eS2FpcbM5nIMVutsMHC/gFAJmK7VNkzk81Gzhf2P3auiIsAuLEZWeMsec6AS3vM2cjzEjuikftZJhNbQ368lpNrAEArssax9a/Xw+vYavI5SRIO3ZkLS1hcrAUfwSUHu5llAfx3AL8D4CSAp83sUXd/hc0ZHCzh/s/fGbRNzp6m5yr1JcHxgf4eOmdpfpHalhdr1FbsCb8YAcDS8nJw3CIvOsVikdrqde5H7ILr7e3n5yuE/a/W+LmSXOTCjzy22bkZausrk8ftDTrHjL949Pf1UlurxRcr6+H16OsZoHOShAd0tc6vq0qTP7Zqgx/z1Mnp4PjyIj/e9u1DwfH/+fVf0DlreRt/O4DX3f2Iu9cAfB/APWs4nhBiA1lLsO8AcOKi3092xoQQlyEbvkFnZg+Y2UEzO7gYefsshNhY1hLspwDsuuj3nZ2xt+HuB9x93N3He3vzazidEGItrCXYnwZwrZntMbM8gM8AeHR93BJCrDeXvBvv7g0z+wKAv0JbenvI3V+OzanVGzh5+nzQVo/sxCIJSxB5vtGNbIHvfvYnfBe/FXGj2BM+oSGsFgBARFFEo85fawtF/tTE5J9qI7xbnEv4jnuxVKC2Wr1KbbE1biD8wBuNS1MgKg2+Mw1yLgDoJ+pKTG5cWliiNstxP0oF/nwmeT5v3/WjwfFaLSY3ho+XTfgDW5PO7u4/BfDTtRxDCNEd9A06IVKCgl2IlKBgFyIlKNiFSAkKdiFSwpp2498tjVYT0/PzQVs+9oUbooQ0mhU6ZWS4TG0Wka5isMylRkRfy+e5zGc0MwzI5rkGmMlz/5N8+CmlGXsAlqtcXpuenaM2t1jCSNh/A39cpRLXUhcq4SQkACgVItdOJvyclfq57339/HmpRxJaGs1IhmMjlv0YHi8VuaRbrYevuVgCo+7sQqQEBbsQKUHBLkRKULALkRIU7EKkhK7uxie5HLaODgdti0t8Z31+ZjY43rcjfCwAKJf7qK1FkkUAoFHju8V1stt6/twFOqevb5DahrdxxQBZvuvbrEZsJJvESDIRAFiLJ6cMDvAkmabz5JqlxfBucS7H7y/ZHN9LTpJI6a9IIg9LDJpf5okphWykRqHHSmBxW964j/MLYV9akfW1HCmf5nyddGcXIiUo2IVICQp2IVKCgl2IlKBgFyIlKNiFSAldld7q9RbOnV0I2moNnoyxdTTc/SKX59LE1Ey41h0AJLlIm55IwkiLnK40wBMWpmemqK2R4ZJXNvLYygnvCFNrhSWvWiWcgAQAPQn3v1TkklGsVtv8fHiNe3r48ZCJSIqRri9Dw7yLT4Y8nw3nyUu1RS6/9iTc/2JM3szy9R/cEk7kaTUjiUakw49ZRDakFiHEewoFuxApQcEuREpQsAuREhTsQqQEBbsQKWFN0puZHQUwD6AJoOHu47G/r1ZqePXl40Hb4JZeOm+Q1JM7NzVD5+QiNdz6SvxchWIku4qUk8tHjpcUeA26xWV+rpnz3P9F8Ky9HqLKLWd4Dbdqgcs19UjttFjbKye15qZnuARVjGQcDkdqCi4t8vXoLYYlzFyOS5uNiPxajdQ9rNS4fLy0xNe/pycso/WScQDIkvU10hYKWB+d/bfcnYvaQojLAr2NFyIlrDXYHcBfm9kzZvbAejgkhNgY1vo2/g53P2Vm2wA8Zma/dPefX/wHnReBBwAgl9cbCSE2izVFn7uf6vw/CeDHAG4P/M0Bdx939/FYSSIhxMZyydFnZr1m1vfWzwB+F8BL6+WYEGJ9Wcvb+FEAPzazt47zv939/8UmJLksrtgeLsDI5DUAGCiF5atMwtv+9JS5LJSNPOpanWdyLS+EM6UykUyjJMuzpPpK3MfF8zxb7vQJLjnuuGo0ON47ygtfNiMZh5UGzw6LFb68cC4sNWUimW2lAl+ryiKXlBZzXA5LMuFjeosfL0uKdgJANfKYG1Uu583P8/vqucmwdDi6jV/fGQv73+Tq5aUHu7sfAXDLpc4XQnQXfYgWIiUo2IVICQp2IVKCgl2IlKBgFyIldLXgZDabwUB/WEbbNsqLKA4QiWqoNELneJ3LYefnJqitFinyN0ekNxjPTkqMS3nl3iK19Ud6mx05Pk1ttXNhGW3f7bvpnD3XXkFtmQyXkxbmIn3xEO5/14rIlEM94cKiAFAuRPrAtSIZjgnp+Rfpb0cSygAAuSxfj0yJS2XlhJ9vYiKcR1aNZEXmiwPBcUfEP2oRQrynULALkRIU7EKkBAW7EClBwS5ESujqbny1WseRI5NBWy0baZ0zFt7l7K/z16oryzdQW22BnwsJr5HWLIV3OrMJ3wEdiLRquvl67mNjmasChx8/S22Tb4R36ofLfAf/3js+SW07r9xGba0Gr6tW9HACSj2S5lyP1E8bJslQAFAscFVjuU4SRhr8XI5IIkyF76o3Gnwbv1njCUXne8LKxVLEx0oz7Ec+8wSdozu7EClBwS5ESlCwC5ESFOxCpAQFuxApQcEuRErobiJMztA3GJapLlzgdcR2X10Kji/leZLJk796jtpa01zWGt41TG1X37gvOH7z+D8pqvuP7Nv7G9RWjrQgOvarF6jtkaHHqO34m+Hada8cPk3n/Oxnz1DbnXfwjl4L0zyhqHL2ZHA871yCKpbCzzMATPbxJJlSD5flwBJvIgk+SQ+X8rKRuofLVS7L1StclktyYZlyxzCXPQs94QSfYsJ9151diJSgYBciJSjYhUgJCnYhUoKCXYiUoGAXIiWsKL2Z2UMAPglg0t1v6owNA/gBgN0AjgL4tLvztKoOhWIee6/bFbRNTCzQeWdOheWkRVLPDgAqTZ7ZlnMuu9xy1T+ntns++W+D49vGwi2XAKDV5G2czh3jrfGOvfIitY3087ZRCTEtzXNpc3YynIkIAK8dfpXatoztoLapWvjSWjjBM/by4JfQ9OLr1NZq8MeWQ1hm5eIrkM3zNlT5Ipe2apHeS57vpbYrdu8Njg+OcJmyUAjHS6XC56zmzv4nAO56x9iDAB5392sBPN75XQhxGbNisHf6rb8z4fYeAA93fn4YwKfW2S8hxDpzqZ/ZR939TOfns2h3dBVCXMaseYPO3R0A/YBsZg+Y2UEzO1hZ5p8nhBAby6UG+4SZjQFA53+6w+PuB9x93N3Hiz18Y0kIsbFcarA/CuC+zs/3AfjJ+rgjhNgoViO9fQ/ARwCMmNlJAF8G8FUAPzSz+wEcA/Dp1Zys0Whg6kK41Y03w22LAADVcKubs8d51tuN+66ntn/1e/+Gz7vhQ9RW6h0Mjjdbs3SO17itN88FoOuv5hlPn/vXn6C2wZFwS6xf/P2zdM5InsuUM8d/RW2TF85RW3kw7McbU/w525aPtMMaDK89ABR6uFRWq4Uz0SrLXK6rVfnHzcUZfp3Ozi9SW6aXr3HvcNjHmfkzwXEAyGTC75JjBTFXDHZ3/ywxfWyluUKIywd9g06IlKBgFyIlKNiFSAkKdiFSgoJdiJTQ1YKTSZLB2PZw9s/sNC/kd2EiLNcM9oTlHQD4xJ2/T22/8X5eRLFlvL9Wox7+7lC2xeWO5hKX3izSy6sYKXq4I5Jl9y/vDosko8O8kGZrhhejbFQj2Ygnw0UlAWBkZziTKzeyhc557tAhfrxyuMAiAGzbupXato+GbVsHuJRXq3PprR5JlxuNFKO0PC+muWXbWHB8eZnLfMePvBkcbzTXlvUmhHgPoGAXIiUo2IVICQp2IVKCgl2IlKBgFyIldFV66ynlcfP+q4K25SVerO/E6+FMuQ/v/zidM37TzdRWX5ihtkzCi1HmSDXH6uI8nbM8wwtO5hAp5pHnxTQ9w+flkvA67r32OjrnxSd4z7bpC1w6rDm/V8zNhyW77bvCBUcB4JfP8/52pyf5czY9wzPpjh8/ERzvKcQu/Uix0gJ/XvqGuKxYHuFZjJ6Es/au2LmHzrmJ9IHr+buDdI7u7EKkBAW7EClBwS5ESlCwC5ESFOxCpISu7sY36k2cPx/eVR3sK9N5H7g1XE9u3zW8/VBjmbcSyhR4kkkSSVjwOkl4aXAlIcny+mgtN2prOE+uWazwBIlKNWyr1XnSzWKk5tr0LFcaFsD9n5kJ7+IPj26nc5qR3f16xH/L8vUHSTayDM9oyTg/XqXKa9fNzLyzl8pFxzx2lNqaFlZ5BrdeQeeMf/CO8LEiyVW6swuREhTsQqQEBbsQKUHBLkRKULALkRIU7EKkhNW0f3oIwCcBTLr7TZ2xrwD4AwBv9f/5krv/dKVjLS3W8PQTx4O2nhyv37X/2rDttit50grqy9xW5OdqtXgSRIuoGoUilw3zESlvOtI+qdHgr8Mz57msuDAbftylIpcAt2zh/reWeZ2/2bNcajpHfCz0hVt5AYBn+do3IrUBqw0+L5MNr2MhIvMVIslQxk+FTIbPa0R8rBK5bPJUOFYA4GeP/d/g+PwcT1xazZ39TwDcFRj/hrvv7/xbMdCFEJvLisHu7j8HwF/ChRC/FqzlM/sXzOyQmT1kZkPr5pEQYkO41GD/FoC9APYDOAPga+wPzewBMztoZgdr1cjXGoUQG8olBbu7T7h7091bAL4N4PbI3x5w93F3H88XIhtqQogN5ZKC3cwubmFxL4CX1scdIcRGsRrp7XsAPgJgxMxOAvgygI+Y2X60i3UdBfCHqztdBplMuP2TRV53BgbCLXyyOZ69Vq3xrKakyW1L83PU1qiFP4Y0Ij2Bpqe4TGbgH2uay9yPk8dOUduZiXBW4cISz2zbuZXLa0NFvsZnZ3jNuCQJP5/G9EvE5de68SzASEcmNFvhNW55ONMMAGD8HWiS5Zl+WePXcCvSIixJwscsZGLnCj8ui9XPo5YO7v7ZwPB3VponhLi80DfohEgJCnYhUoKCXYiUoGAXIiUo2IVICV0tOJnJtFAshbOydo+NBccBYPfV4W/jVpvhFkMAMM87AqGnxFv4TE/zNkOz0+GMonxEAnz+WS5P7byCP+Zijkso3uJi0/xcWLI7G8mU29J/JbWVI9+DKkayB/PFsLRVyvH7yzW7dlLbq0tHqK3hXM5jEqAbl7UqkaKNTT4N+WxMsotIfUSBLeX5+g6R9k+53Gk6R3d2IVKCgl2IlKBgFyIlKNiFSAkKdiFSgoJdiJTQVektyeWwfYhkWNW5pjF9PtxvbAuR8QCg2M+LKNZrPAPp9ImT3I8LYelt9+5r6Jxswgs9XpjmfdRKEenNIlLTzisGg+PbdwzTOc0qlzBPnD5LbZ7jl8+OXWE5b6DEC3D2XrOb2uqLXBI9NTFBbYV8+H6Wi2Svxe+A/HmpN3kWo0cy6XJJWLrtHx6lc7bv3B0cT/KH6Rzd2YVICQp2IVKCgl2IlKBgFyIlKNiFSAld3Y1v1ICZE+HdzHIv3x2d2xLePZ/t57vIA2XeZmhpgdd3mzp3ntrmFyrB8RqpTQcA+UK45h4ALCxw/z3Ld9zR5PXk0AwrFLlIG6qlSpXapuZ4RlHfKE9caWTDO8z/8OQzdM7eAZ5QNNDHbfOz/DLOkPtZTyTJJBtp4wTnSUiZyI67x2osDocVqpHR7XTOyChLhImthRAiFSjYhUgJCnYhUoKCXYiUoGAXIiUo2IVICatp/7QLwJ8CGEU7C+CAu3/TzIYB/ADAbrRbQH3a3XmhMwCNRgvnpsJSzoULi3RerRb+cn+1yRNaygO8ztxCjUsk589z6a2nNyznzUUktKUql8mSPE+SyThPuKjUuSxXbYSloaWFcBIPAMye4/4XB3mdvLEbbqK2p58Lt/976ikuvZ0Z4PLg2DCXMGPJNRmiimYi9eIsIr3lslyySyJyXr6HJ2aVh7YExwu9/Bqemb0QHG9GknFWc2dvAPgjd78BwAcBfN7MbgDwIIDH3f1aAI93fhdCXKasGOzufsbdn+38PA/gMIAdAO4B8HDnzx4G8KmNclIIsXbe1Wd2M9sN4FYATwIYdfczHdNZtN/mCyEuU1Yd7GZWBvAjAF9097d939TdHSSr38weMLODZnawVuefJ4QQG8uqgt3MErQD/bvu/khneMLMxjr2MQCTobnufsDdx919PJ9EvnMshNhQVgx2MzO0+7EfdvevX2R6FMB9nZ/vA/CT9XdPCLFerCbr7cMAPgfgRTN7vjP2JQBfBfBDM7sfwDEAn17pQJYFcgPh15fFeS6jHTl9LjheGgy3hQKAvoFT1FaIPOyTc7wu3BDJHCtleMZebhupuQegWeE19CZP8rpqMxd41l5lLqx+niX18wCgdxtv/zR63Y3UdvzEUe7HmTfCx4tIoiemeJ25RiSz8MqhPmrLkTeTjQq/3goFLonmi9xWKPLMvKGtfEur1B++jmMfei9MhCXiZpPLsisGu7v/AgC7mj+20nwhxOWBvkEnREpQsAuREhTsQqQEBbsQKUHBLkRK6GrByWI+j/dddUXQNrPEs8Ma1bAIkeO1/zBzJpwVBADzS7zA4vlpnn03Xw1LK81MWBoEgFxExplf5DJfo8Ffh7OR4pEDW8JaU3E0vO4AkLvyfdR29M3j1Hbiuaeo7ca94YKI1+/jRRSfPHSU2iaOTVFbq8Wlz6H+cLZcIZLZ5nWecViKhEz/QLj1FgCUhnjWnrfItV/h4luZyHxZ49eN7uxCpAQFuxApQcEuREpQsAuREhTsQqQEBbsQKaGr0ls2m8FQOSwb9RS4jpbNhN1MMgmdU2+G+7IBwMJEMPUeADDWxyWqXVuuCo4PJTz7rlHlxRynjnNZ6/DZk9Q2upNn0vVfc11wfPEslwdPPnmQ2mYmePbg7bdcTW3lQjirrNLD7y93/Pb7qe3wS0eo7aWDr1NbdTacBbatv5/OyWS4j0uRAiythF+PzUh/vsX5cBHWQsKLVG7dsSs4nstzH3RnFyIlKNiFSAkKdiFSgoJdiJSgYBciJXR1N77ZbGJ2Plw/bSCS3NEiO+v1At/hLA3zncxB4wkLvRmesFAsh5Na+sp8B9RavCXQjbv4Lv7OQa5OLDT4jnBxOVzXbls/f6ozu/lr/s3vD+/uA0ApUu+sukASkXJ8Tt8WnoDysbv3UdvYdv58/v1jLwbHZ0itPgBAL69pV+zj19VS5HnJzPAEqwZJ5CkNh9uNAUAvqWmXyWk3XojUo2AXIiUo2IVICQp2IVKCgl2IlKBgFyIlrCi9mdkuAH+KdktmB3DA3b9pZl8B8AcA3sqw+JK7/zR2rEIhwdV7xoK2cp7LJ5PnwkkctQyvJTc6yiW03CA/V2uW2wbLYdklKXA/kkhyxPZiOLEGALZWt1LbTKR23YuvhaUmL3Efr7+Vt38q93FJdC5S58+nwnJp/wA/Xq6P1+vr7eWtlUY/ehO1ZZphCfOJn71M55yb5TJZocRlOTS5dFiLNXPKhh/b2OgOOiWx8OPi1fhWp7M3APyRuz9rZn0AnjGzxzq2b7j7f1vFMYQQm8xqer2dAXCm8/O8mR0GwF9yhBCXJe/qM7uZ7QZwK4AnO0NfMLNDZvaQmfGvgwkhNp1VB7uZlQH8CMAX3X0OwLcA7AWwH+07/9fIvAfM7KCZHVxY4AUlhBAby6qC3cwStAP9u+7+CAC4+4S7N929BeDbAG4PzXX3A+4+7u7j5TLfZBFCbCwrBruZGYDvADjs7l+/aPzibfV7Aby0/u4JIdaL1ezGfxjA5wC8aGbPd8a+BOCzZrYfbTnuKIA/XPlQjqyFJYhak2chlQfCr0me4TKIhZO/AAD1aS5DlWLtc1rhjK25ee57T4lnvSV5ntUE8HdBv3zpNWp7+oXDwfHbPnw9nVONtDtanpyltmyDy4r5QljCbIG3Xao0uI3VkgOAeo2v/5X7toTPVeNZdM89wdd3amaG2paWwnX3ACBDMiYBIGGyXKR+4cy5cPZos86v7dXsxv8CYfkuqqkLIS4v9A06IVKCgl2IlKBgFyIlKNiFSAkKdiFSQlcLThbyBVy5Y0/YmOHFIzNEDstmeAbV+dNcMpqa4q2QUOQyTpKEJar5JX6u+WNhiQQA9ux5H7UNj/Cst9j5rr0u3JJp//6b6ZxMMSJrVfm3HlvOZZ5aPXzMYjmSNdbL5SkYlwfrNS5TFgthWeu37+KZcttJmy8AePwv/47aJi/w58WyPJuyXAxnsC3O8DZlEyfD7cHqNf6c6M4uREpQsAuREhTsQqQEBbsQKUHBLkRKULALkRK6Kr0luQLGtu4N2rIJd6VUDEtsGdIjCwDmTz5HbRNnuKTRslPU1jMVLjg50D9C55w8ys9VzPK+YdksX49/9psforadpKCnR3qsVZs8RbDUw+XN6jyfd+qNo8HxkeHtdE5hgMtyiws8A6yRcLlpOROWDr3O73O37r+N2o68epraXnnxVWpbWuRFLHduDctyQ5Eim3WS3ebOJUrd2YVICQp2IVKCgl2IlKBgFyIlKNiFSAkKdiFSQlelt0a9iZkz4YJ9eSKvAcA8whJPpDYk6g0uQZyf45loC4uxbLmwbdvILjrn+vfxzLamczlsYYFn3+3YeQW1NSrh7MFKbYnOqVS4rZaP9LHLcOkzSwpLzk7yxzXYihT7pBaglOMSZrk/LOd5pPdaby8vBPov7v04tR05foLa3jzBJdh6JXwdVCJyYyEXXpEGyTYEdGcXIjUo2IVICQp2IVKCgl2IlKBgFyIlrLgbb2ZFAD8HUOj8/Z+7+5fNbA+A7wPYAuAZAJ9zd97/BkCpVMQtt4Z3p9st5YgPZDyT5e2Crrt2J7UVS7zW2SM/+gm1LS6eDY6fqL5J5yR5vuu7ZYTvIg9t5e2J9l4TTnYBgEIxnDzBtQnAIusYm5ehzwxQLIT9ODfB6//tuYrXfsvleRutRpOvMVM8Gi1e87BS5bZrriE1FAF84AO3Uttf/gWvXTe7GE7WyWf56ieZsK3RDNezA1Z3Z68C+Ki734J2e+a7zOyDAP4YwDfc/RoA0wDuX8WxhBCbxIrB7m3eEvySzj8H8FEAf94ZfxjApzbEQyHEurDa/uzZTgfXSQCPAXgDwIz7P75HOglgx8a4KIRYD1YV7O7edPf9AHYCuB0A7//7DszsATM7aGYHz0fqagshNpZ3tRvv7jMA/hbAhwAMmtlbG3w7AQRLvLj7AXcfd/fxkeFYP3IhxEayYrCb2VYzG+z83APgdwAcRjvof7/zZ/cB4NvYQohNZzWJMGMAHjazLNovDj90978ws1cAfN/M/guA5wB8Z6UDVSo1vPp6uIZXJiK9eTMsn2QiwlCrxSWIwaEt1HbHb36E2nL+D8HxubnzdM78Ek8y6W3wlkCZPK/H9sYRnnDRrIdlo0YrUpss4bXOmkTiAYBsrCXTUjh5aWaaf5Q7fuw4tZXKvdTW4E816kSWiyb/RFoo5ZMeavu9j/8WtU2dnaK2Q8+/HJ6zyCXFHiJtNiNa6YrB7u6HAPwTAdHdj6D9+V0I8WuAvkEnREpQsAuREhTsQqQEBbsQKUHBLkRKsFi7mHU/mdk5AMc6v44A4JpV95Afb0d+vJ1fNz+ucvetIUNXg/1tJzY76O7jm3Jy+SE/UuiH3sYLkRIU7EKkhM0M9gObeO6LkR9vR368nfeMH5v2mV0I0V30Nl6IlLApwW5md5nZr8zsdTN7cDN86Phx1MxeNLPnzexgF8/7kJlNmtlLF40Nm9ljZvZa5/+hTfLjK2Z2qrMmz5vZ3V3wY5eZ/a2ZvWJmL5vZv++Md3VNIn50dU3MrGhmT5nZCx0//nNnfI+ZPdmJmx+YGa/CGcLdu/oPQBbtslZXA8gDeAHADd32o+PLUQAjm3DeOwHcBuCli8b+K4AHOz8/COCPN8mPrwD4D11ejzEAt3V+7gPwKoAbur0mET+6uiZoF1Qud35OADwJ4IMAfgjgM53x/wHg372b427Gnf12AK+7+xFvl57+PoB7NsGPTcPdfw7gwjuG70G7cCfQpQKexI+u4+5n3P3Zzs/zaBdH2YEur0nEj67ibda9yOtmBPsOABdXX9jMYpUO4K/N7Bkze2CTfHiLUXc/0/n5LIDRTfTlC2Z2qPM2f8M/TlyMme1Gu37Ck9jENXmHH0CX12QjirymfYPuDne/DcAnAHzezO7cbIeA9is74v0ZNpJvAdiLdo+AMwC+1q0Tm1kZwI8AfNHd39ZXu5trEvCj62viayjyytiMYD8F4OKG5rRY5Ubj7qc6/08C+DE2t/LOhJmNAUDnf97QewNx94nOhdYC8G10aU3MLEE7wL7r7o90hru+JiE/NmtNOud+10VeGZsR7E8DuLazs5gH8BkAj3bbCTPrNbO+t34G8LsAXorP2lAeRbtwJ7CJBTzfCq4O96ILa2Lt3l/fAXDY3b9+kamra8L86PaabFiR127tML5jt/FutHc63wDwHzfJh6vRVgJeAPByN/0A8D203w7W0f7sdT/aPfMeB/AagL8BMLxJfvwZgBcBHEI72Ma64McdaL9FPwTg+c6/u7u9JhE/uromAG5Gu4jrIbRfWP7TRdfsUwBeB/B/ABTezXH1DTohUkLaN+iESA0KdiFSgoJdiJSgYBciJSjYhUgJCnYhUoKCXYiUoGAXIiX8f9pQRC7dXDtJAAAAAElFTkSuQmCC\n",
      "text/plain": [
       "<Figure size 432x288 with 1 Axes>"
      ]
     },
     "metadata": {
      "needs_background": "light",
      "tags": []
     },
     "output_type": "display_data"
    },
    {
     "name": "stdout",
     "output_type": "stream",
     "text": [
      "Image #2429 True label: ship Predicted Label: ship\n"
     ]
    },
    {
     "data": {
      "image/png": "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\n",
      "text/plain": [
       "<Figure size 432x288 with 1 Axes>"
      ]
     },
     "metadata": {
      "needs_background": "light",
      "tags": []
     },
     "output_type": "display_data"
    },
    {
     "name": "stdout",
     "output_type": "stream",
     "text": [
      "Image #4365 True label: truck Predicted Label: truck\n"
     ]
    },
    {
     "data": {
      "image/png": "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\n",
      "text/plain": [
       "<Figure size 432x288 with 1 Axes>"
      ]
     },
     "metadata": {
      "needs_background": "light",
      "tags": []
     },
     "output_type": "display_data"
    }
   ],
   "source": [
    "import random\n",
    "import matplotlib.pyplot as plt\n",
    "from matplotlib.pyplot import show\n",
    "for i in range(5):\n",
    "  random_image = random.randint(0,5000)\n",
    "  print(\"Image #{} True label: {} Predicted Label: {}\".format(random_image, imgLabel[y_true[random_image]], imgLabel[pred[random_image]]))\n",
    "  plt.imshow(x_test[random_image])\n",
    "  show()"
   ]
  },
  {
   "cell_type": "markdown",
   "metadata": {
    "id": "MgBnw9dRfOgS"
   },
   "source": [
    "\n",
    "\n",
    "## Part II:   CNN model with Transfer Learning"
   ]
  },
  {
   "cell_type": "code",
   "execution_count": 21,
   "metadata": {
    "id": "H9rvtqrsfOgT"
   },
   "outputs": [],
   "source": [
    "# We load data again.   The data split between train and test sets:\n",
    "\n",
    "(x_train, y_train), (x_test, y_test) = cifar10.load_data()"
   ]
  },
  {
   "cell_type": "markdown",
   "metadata": {
    "id": "76nlJCgW6LCs"
   },
   "source": [
    "### Load in 50% of the data set"
   ]
  },
  {
   "cell_type": "code",
   "execution_count": 22,
   "metadata": {
    "id": "3c7Md9Q06KI9"
   },
   "outputs": [],
   "source": [
    "xt = []\n",
    "bbreak = 0\n",
    "for i in x_train:\n",
    "  if (bbreak == 25000):\n",
    "    break\n",
    "  bbreak = bbreak +1\n",
    "  xt.append(i)\n",
    "x_train = np.asarray(xt)\n",
    "\n",
    "xtt = []\n",
    "bbreak = 0\n",
    "for i in x_test:\n",
    "  if (bbreak == 5000):\n",
    "    break\n",
    "  bbreak = bbreak +1\n",
    "  xtt.append(i)\n",
    "x_test = np.asarray(xtt)\n",
    "\n",
    "\n",
    "yt = []\n",
    "bbreak = 0\n",
    "for i in y_train:\n",
    "  if (bbreak == 25000):\n",
    "    break\n",
    "  bbreak = bbreak +1\n",
    "  yt.append(i)\n",
    "y_train = np.asarray(yt)\n",
    "\n",
    "ytt = []\n",
    "bbreak = 0\n",
    "for i in y_test:\n",
    "  if (bbreak == 5000):\n",
    "    break\n",
    "  bbreak = bbreak +1\n",
    "  ytt.append(i)\n",
    "y_test = np.asarray(ytt)"
   ]
  },
  {
   "cell_type": "code",
   "execution_count": 23,
   "metadata": {
    "colab": {
     "base_uri": "https://localhost:8080/"
    },
    "id": "-Yl4BuIF6Cjj",
    "outputId": "63bafc72-45da-4b5c-bd0e-8972bd29ca11"
   },
   "outputs": [
    {
     "name": "stdout",
     "output_type": "stream",
     "text": [
      "x_train shape: (25000, 32, 32, 3)\n",
      "y_train shape: (25000, 1)\n",
      "x_test shape: (5000, 32, 32, 3)\n",
      "y_test shape: (5000, 1)\n",
      "25000 train samples\n",
      "5000 test samples\n"
     ]
    }
   ],
   "source": [
    "print('x_train shape:', x_train.shape)\n",
    "print('y_train shape:', y_train.shape)\n",
    "\n",
    "print('x_test shape:', x_test.shape)\n",
    "print('y_test shape:', y_test.shape)\n",
    "\n",
    "\n",
    "print(x_train.shape[0], 'train samples')\n",
    "print(x_test.shape[0], 'test samples')"
   ]
  },
  {
   "cell_type": "markdown",
   "metadata": {
    "id": "UGSxqVVypDiX"
   },
   "source": [
    "### Here we would like to use one pre-trained model called VGG16.   For more details on VGG16, please go to https://neurohive.io/en/popular-networks/vgg16/\n",
    "\n",
    "\n",
    "### VGG16 supports down to 48x48 images as an input. However, the resolution of our images is too low, which is (32, 32) so we need to increase the resolution.   This is called upsampling. \n",
    "\n",
    "\n",
    "\n",
    "### Find a way to do upsampling for each image to increase its resolution from 32x32 to 64x64. One option is to use the function resize(), which is provided by scikit-image library (https://scikit-image.org/)\n",
    "\n",
    "\n",
    "### Things to note: \n",
    "\n",
    "#### (1) If you use resize() in scikit-image, that function also normalizes the input image so you may not want to normalize twice.\n",
    "\n",
    "#### (2) Apply upsampling to x_train and x_test seperately. "
   ]
  },
  {
   "cell_type": "markdown",
   "metadata": {
    "id": "t8HYTJFO1MBJ"
   },
   "source": []
  },
  {
   "cell_type": "code",
   "execution_count": 24,
   "metadata": {
    "colab": {
     "base_uri": "https://localhost:8080/"
    },
    "id": "XWwBKsh-fOgX",
    "outputId": "078e0896-8c51-41b3-8ad2-d3d336b79ccd"
   },
   "outputs": [
    {
     "name": "stdout",
     "output_type": "stream",
     "text": [
      "new x train shape: (25000, 64, 64, 3)\n"
     ]
    }
   ],
   "source": [
    "import skimage.transform\n",
    "from skimage.transform import resize\n",
    "\n",
    "new_x_train = []\n",
    "for i in x_train:\n",
    "  new_x_train.append(resize(i, (64,64), anti_aliasing=True))\n",
    "  \n",
    "x_train = np.asarray(new_x_train)\n",
    "print('new x train shape:', x_train.shape)\n",
    "\n",
    "# this process may take about a few minutes ...."
   ]
  },
  {
   "cell_type": "code",
   "execution_count": 25,
   "metadata": {
    "colab": {
     "base_uri": "https://localhost:8080/"
    },
    "id": "0s0-oaKDfOgf",
    "outputId": "98f8c889-68d8-4ae7-c83c-b52131f1b39e"
   },
   "outputs": [
    {
     "name": "stdout",
     "output_type": "stream",
     "text": [
      "new x test shape: (5000, 64, 64, 3)\n"
     ]
    }
   ],
   "source": [
    "new_x_test = []\n",
    "for i in x_test:\n",
    "  new_x_test.append(resize(i, (64,64), anti_aliasing=True))\n",
    "\n",
    "x_test = np.asarray(new_x_test)\n",
    "\n",
    "print('new x test shape:', x_test.shape)\n",
    "\n",
    "# this process may take about a few minutes ...."
   ]
  },
  {
   "cell_type": "markdown",
   "metadata": {
    "id": "pPjFo2oyqlGO"
   },
   "source": [
    "### Write your code in the cell below to do the following:\n",
    "\n",
    "- First convert y_train and y_test from 2D to 1D by using reshape() function \n",
    "- Next apply one-hot encoding to y_train and y_test by using tf.keras.utils.to_categorical() function"
   ]
  },
  {
   "cell_type": "code",
   "execution_count": 26,
   "metadata": {
    "id": "fQuVaf2pkRdr"
   },
   "outputs": [],
   "source": [
    "#2D to 1D\n",
    "y_train = y_train.reshape(25000)\n",
    "y_test = y_test.reshape(5000)\n",
    "\n",
    "#apply one hot encoding\n",
    "y_train = tf.keras.utils.to_categorical(y_train, num_classes)\n",
    "y_test = tf.keras.utils.to_categorical(y_test, num_classes)"
   ]
  },
  {
   "cell_type": "code",
   "execution_count": 27,
   "metadata": {
    "colab": {
     "base_uri": "https://localhost:8080/"
    },
    "id": "w_pLuCNjqvbf",
    "outputId": "d6c4c797-1b08-4b85-cbce-176080d77957"
   },
   "outputs": [
    {
     "name": "stdout",
     "output_type": "stream",
     "text": [
      "(25000, 10)\n",
      "(5000, 10)\n"
     ]
    }
   ],
   "source": [
    "# double check shape\n",
    "\n",
    "print(y_train.shape)\n",
    "print(y_test.shape)\n",
    "\n",
    "# expected output:  (50000, 10) (25000, 10)\n",
    "# expected output:  (10000, 10) (5000, 10)"
   ]
  },
  {
   "cell_type": "markdown",
   "metadata": {
    "id": "x-bzRNdjfOgy"
   },
   "source": [
    "###  Load the pre-trained VGG16 model.  Write your code in the cell below to add each layer in VGG16 (excluding the top layers) to your new model.  "
   ]
  },
  {
   "cell_type": "code",
   "execution_count": 28,
   "metadata": {
    "colab": {
     "base_uri": "https://localhost:8080/"
    },
    "id": "4HLwE00VfOgz",
    "outputId": "17f19da4-3e11-4873-8441-7528a90640d2"
   },
   "outputs": [
    {
     "name": "stdout",
     "output_type": "stream",
     "text": [
      "Model: \"sequential_1\"\n",
      "_________________________________________________________________\n",
      "Layer (type)                 Output Shape              Param #   \n",
      "=================================================================\n",
      "block1_conv1 (Conv2D)        (None, 64, 64, 64)        1792      \n",
      "_________________________________________________________________\n",
      "block1_conv2 (Conv2D)        (None, 64, 64, 64)        36928     \n",
      "_________________________________________________________________\n",
      "block1_pool (MaxPooling2D)   (None, 32, 32, 64)        0         \n",
      "_________________________________________________________________\n",
      "block2_conv1 (Conv2D)        (None, 32, 32, 128)       73856     \n",
      "_________________________________________________________________\n",
      "block2_conv2 (Conv2D)        (None, 32, 32, 128)       147584    \n",
      "_________________________________________________________________\n",
      "block2_pool (MaxPooling2D)   (None, 16, 16, 128)       0         \n",
      "_________________________________________________________________\n",
      "block3_conv1 (Conv2D)        (None, 16, 16, 256)       295168    \n",
      "_________________________________________________________________\n",
      "block3_conv2 (Conv2D)        (None, 16, 16, 256)       590080    \n",
      "_________________________________________________________________\n",
      "block3_conv3 (Conv2D)        (None, 16, 16, 256)       590080    \n",
      "_________________________________________________________________\n",
      "block3_pool (MaxPooling2D)   (None, 8, 8, 256)         0         \n",
      "_________________________________________________________________\n",
      "block4_conv1 (Conv2D)        (None, 8, 8, 512)         1180160   \n",
      "_________________________________________________________________\n",
      "block4_conv2 (Conv2D)        (None, 8, 8, 512)         2359808   \n",
      "_________________________________________________________________\n",
      "block4_conv3 (Conv2D)        (None, 8, 8, 512)         2359808   \n",
      "_________________________________________________________________\n",
      "block4_pool (MaxPooling2D)   (None, 4, 4, 512)         0         \n",
      "_________________________________________________________________\n",
      "block5_conv1 (Conv2D)        (None, 4, 4, 512)         2359808   \n",
      "_________________________________________________________________\n",
      "block5_conv2 (Conv2D)        (None, 4, 4, 512)         2359808   \n",
      "_________________________________________________________________\n",
      "block5_conv3 (Conv2D)        (None, 4, 4, 512)         2359808   \n",
      "_________________________________________________________________\n",
      "block5_pool (MaxPooling2D)   (None, 2, 2, 512)         0         \n",
      "=================================================================\n",
      "Total params: 14,714,688\n",
      "Trainable params: 14,714,688\n",
      "Non-trainable params: 0\n",
      "_________________________________________________________________\n"
     ]
    }
   ],
   "source": [
    "from tensorflow.keras.applications.vgg16 import VGG16\n",
    "\n",
    "vgg_model = VGG16(weights='imagenet', include_top=False, input_shape=(64, 64, 3))   #  first hidden layer\n",
    "\n",
    "model = Sequential()\n",
    "\n",
    "# write your code here\n",
    "\n",
    "#add pretrained model's layers to model \n",
    "for layer in vgg_model.layers:\n",
    "  model.add(layer)\n",
    "\n",
    "# print out the model summary\n",
    "model.summary()\n"
   ]
  },
  {
   "cell_type": "markdown",
   "metadata": {
    "id": "4ki8D32hrl3E"
   },
   "source": [
    "### Write your code in the cell below to freeze the weights in each layer in the new model"
   ]
  },
  {
   "cell_type": "code",
   "execution_count": 29,
   "metadata": {
    "id": "X_oqboGwfOg1"
   },
   "outputs": [],
   "source": [
    "for layer in model.layers:\n",
    "  layer.trainable = False\n"
   ]
  },
  {
   "cell_type": "markdown",
   "metadata": {
    "id": "YArrSsS4rt_t"
   },
   "source": [
    "###  Write your code in the cell below to add some \"Dense\" layers as top layers.\n",
    "\n",
    "- Donot forget the output layer\n",
    "- Choose the right activation fucntion for the output layer"
   ]
  },
  {
   "cell_type": "code",
   "execution_count": 30,
   "metadata": {
    "id": "Fphbz0FhfOg3"
   },
   "outputs": [],
   "source": [
    "model.add(Flatten())\n",
    "\n",
    "# Add some \"Dense\" layers here, including output layer\n",
    "model.add(Dense(512))\n",
    "model.add(Activation('relu'))\n",
    "model.add(Dropout(0.5))\n",
    "\n",
    "model.add(Flatten())\n",
    "\n",
    "model.add(Dense(350))\n",
    "model.add(Activation('relu'))\n",
    "model.add(Dropout(0.5))\n",
    "\n",
    "model.add(Dense(num_classes, activation = 'softmax'))"
   ]
  },
  {
   "cell_type": "markdown",
   "metadata": {
    "id": "sDOG92fcr1m8"
   },
   "source": [
    "###  Write your code below for compile and fit. \n",
    "\n",
    "### Train your new model. \n",
    "\n",
    "### Notice that you should use earlystopping."
   ]
  },
  {
   "cell_type": "code",
   "execution_count": 31,
   "metadata": {
    "colab": {
     "base_uri": "https://localhost:8080/"
    },
    "id": "xWrWTc2JfOg6",
    "outputId": "3d6f82f3-953b-4a2b-993c-d57523a3a380",
    "scrolled": false
   },
   "outputs": [
    {
     "name": "stdout",
     "output_type": "stream",
     "text": [
      "Epoch 1/1000\n",
      "391/391 [==============================] - 15s 34ms/step - loss: 1.8111 - val_loss: 1.1600\n",
      "Epoch 2/1000\n",
      "391/391 [==============================] - 12s 30ms/step - loss: 1.2691 - val_loss: 1.0656\n",
      "Epoch 3/1000\n",
      "391/391 [==============================] - 12s 31ms/step - loss: 1.1301 - val_loss: 1.0387\n",
      "Epoch 4/1000\n",
      "391/391 [==============================] - 12s 31ms/step - loss: 1.0704 - val_loss: 0.9864\n",
      "Epoch 5/1000\n",
      "391/391 [==============================] - 12s 30ms/step - loss: 1.0220 - val_loss: 0.9570\n",
      "Epoch 6/1000\n",
      "391/391 [==============================] - 12s 30ms/step - loss: 0.9818 - val_loss: 0.9691\n",
      "Epoch 7/1000\n",
      "391/391 [==============================] - 11s 29ms/step - loss: 0.9658 - val_loss: 0.9549\n",
      "Epoch 8/1000\n",
      "391/391 [==============================] - 12s 29ms/step - loss: 0.9147 - val_loss: 0.9361\n",
      "Epoch 9/1000\n",
      "391/391 [==============================] - 12s 30ms/step - loss: 0.9198 - val_loss: 0.9294\n",
      "Epoch 10/1000\n",
      "391/391 [==============================] - 12s 30ms/step - loss: 0.8873 - val_loss: 0.9268\n",
      "Epoch 11/1000\n",
      "391/391 [==============================] - 12s 30ms/step - loss: 0.8615 - val_loss: 0.9404\n",
      "Epoch 12/1000\n",
      "391/391 [==============================] - 12s 30ms/step - loss: 0.8415 - val_loss: 0.9456\n",
      "Epoch 13/1000\n",
      "391/391 [==============================] - 12s 30ms/step - loss: 0.8250 - val_loss: 0.9166\n",
      "Epoch 14/1000\n",
      "391/391 [==============================] - 12s 30ms/step - loss: 0.7917 - val_loss: 0.9214\n",
      "Epoch 15/1000\n",
      "391/391 [==============================] - 12s 30ms/step - loss: 0.7791 - val_loss: 0.9376\n",
      "Epoch 16/1000\n",
      "391/391 [==============================] - 12s 30ms/step - loss: 0.7636 - val_loss: 0.9052\n",
      "Epoch 17/1000\n",
      "391/391 [==============================] - 12s 30ms/step - loss: 0.7469 - val_loss: 0.9408\n",
      "Epoch 18/1000\n",
      "391/391 [==============================] - 12s 30ms/step - loss: 0.7532 - val_loss: 0.9219\n",
      "Epoch 19/1000\n",
      "391/391 [==============================] - 12s 30ms/step - loss: 0.7148 - val_loss: 0.9085\n",
      "Epoch 20/1000\n",
      "391/391 [==============================] - 12s 30ms/step - loss: 0.7020 - val_loss: 0.9270\n",
      "Epoch 21/1000\n",
      "391/391 [==============================] - 12s 30ms/step - loss: 0.6913 - val_loss: 0.9501\n",
      "Epoch 00021: early stopping\n"
     ]
    },
    {
     "data": {
      "text/plain": [
       "<tensorflow.python.keras.callbacks.History at 0x7f14feae34d0>"
      ]
     },
     "execution_count": 31,
     "metadata": {
      "tags": []
     },
     "output_type": "execute_result"
    }
   ],
   "source": [
    "from tensorflow.keras.optimizers import Adam\n",
    "from tensorflow.keras.callbacks import EarlyStopping, ModelCheckpoint\n",
    "\n",
    "model.compile(loss=\"categorical_crossentropy\", optimizer='adam')\n",
    "\n",
    "monitor = EarlyStopping(monitor='val_loss', min_delta=1e-3, patience=5, verbose=2, mode='auto')\n",
    "\n",
    "model.fit(x_train,\n",
    "        y_train, \n",
    "        validation_data=(x_test,y_test),\n",
    "        batch_size = 64,\n",
    "        callbacks=[monitor],\n",
    "        verbose=1,\n",
    "        epochs=1000\n",
    "    )\n",
    "\n",
    "# since we use GPU, the training time for each epoch for the transferred model is about 60 seconds.  \n",
    "# Let it run for a few epochs. "
   ]
  },
  {
   "cell_type": "markdown",
   "metadata": {
    "id": "ps2CZ8Xwrz_a"
   },
   "source": [
    "### Write your code below to print out the Precision, Recall, F1 score, and classification_report\n",
    "\n",
    "### Include your findings in the project report."
   ]
  },
  {
   "cell_type": "code",
   "execution_count": 32,
   "metadata": {
    "colab": {
     "base_uri": "https://localhost:8080/"
    },
    "id": "rMRuLfS3fOg8",
    "outputId": "0f625dc0-1dad-43f6-9ab2-a453511531cf",
    "scrolled": true
   },
   "outputs": [
    {
     "name": "stdout",
     "output_type": "stream",
     "text": [
      "Precision score: 0.6980127663747443\n",
      "Recall score: 0.6894\n",
      "F1 score: 0.690485631585516\n",
      "              precision    recall  f1-score   support\n",
      "\n",
      "           0       0.71      0.75      0.73       488\n",
      "           1       0.76      0.82      0.79       505\n",
      "           2       0.68      0.58      0.63       512\n",
      "           3       0.47      0.56      0.51       497\n",
      "           4       0.63      0.67      0.65       507\n",
      "           5       0.61      0.51      0.55       488\n",
      "           6       0.63      0.79      0.70       491\n",
      "           7       0.82      0.69      0.75       495\n",
      "           8       0.86      0.79      0.83       504\n",
      "           9       0.79      0.73      0.76       513\n",
      "\n",
      "    accuracy                           0.69      5000\n",
      "   macro avg       0.70      0.69      0.69      5000\n",
      "weighted avg       0.70      0.69      0.69      5000\n",
      "\n"
     ]
    }
   ],
   "source": [
    "from sklearn import metrics\n",
    "from sklearn.metrics import classification_report\n",
    "\n",
    "pred = model.predict(x_test)\n",
    "pred = np.argmax(pred,axis=1)\n",
    "y_true= np.argmax(y_test,axis=1) \n",
    "\n",
    "#precision score\n",
    "score = metrics.precision_score(y_true, pred, average= \"weighted\")\n",
    "print(\"Precision score: {}\".format(score))\n",
    "\n",
    "#recall score\n",
    "score = metrics.recall_score(y_true, pred, average= \"weighted\")\n",
    "print(\"Recall score: {}\".format(score))\n",
    "\n",
    "#F1 score\n",
    "score = metrics.f1_score(y_true, pred, average= \"weighted\")\n",
    "print(\"F1 score: {}\".format(score))\n",
    "\n",
    "#classification_report\n",
    "print(classification_report(y_true, pred))"
   ]
  },
  {
   "cell_type": "markdown",
   "metadata": {
    "id": "PkatwrTod_ii"
   },
   "source": [
    "### Write your code in the cell below to show 3-5 images in the test set as well as their true labels and their labels predicted by your model with transfer learning. \n",
    "\n",
    "### Include your findings in the project report."
   ]
  },
  {
   "cell_type": "code",
   "execution_count": 33,
   "metadata": {
    "colab": {
     "base_uri": "https://localhost:8080/",
     "height": 1000
    },
    "id": "PoRepUWbd_ii",
    "outputId": "f46aae9c-c0f3-4989-df5d-74d64f07e580"
   },
   "outputs": [
    {
     "name": "stdout",
     "output_type": "stream",
     "text": [
      "Image #3676 True label: truck Predicted Label: auto mobile\n"
     ]
    },
    {
     "data": {
      "image/png": "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\n",
      "text/plain": [
       "<Figure size 432x288 with 1 Axes>"
      ]
     },
     "metadata": {
      "needs_background": "light",
      "tags": []
     },
     "output_type": "display_data"
    },
    {
     "name": "stdout",
     "output_type": "stream",
     "text": [
      "Image #1633 True label: auto mobile Predicted Label: auto mobile\n"
     ]
    },
    {
     "data": {
      "image/png": "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\n",
      "text/plain": [
       "<Figure size 432x288 with 1 Axes>"
      ]
     },
     "metadata": {
      "needs_background": "light",
      "tags": []
     },
     "output_type": "display_data"
    },
    {
     "name": "stdout",
     "output_type": "stream",
     "text": [
      "Image #2008 True label: truck Predicted Label: truck\n"
     ]
    },
    {
     "data": {
      "image/png": "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\n",
      "text/plain": [
       "<Figure size 432x288 with 1 Axes>"
      ]
     },
     "metadata": {
      "needs_background": "light",
      "tags": []
     },
     "output_type": "display_data"
    },
    {
     "name": "stdout",
     "output_type": "stream",
     "text": [
      "Image #2584 True label: frog Predicted Label: frog\n"
     ]
    },
    {
     "data": {
      "image/png": "iVBORw0KGgoAAAANSUhEUgAAAPsAAAD7CAYAAACscuKmAAAABHNCSVQICAgIfAhkiAAAAAlwSFlzAAALEgAACxIB0t1+/AAAADh0RVh0U29mdHdhcmUAbWF0cGxvdGxpYiB2ZXJzaW9uMy4yLjIsIGh0dHA6Ly9tYXRwbG90bGliLm9yZy+WH4yJAAAgAElEQVR4nO19W8xtV3XeN9a+/pdzbB+buBZGhSooEQ+NiSxClCgiUCKHVuElQrmocitLfkkroqYK0EpVUrUSecnloYpklTR+SAPkViMUJaEuqKpUEQ6FJIBDcIgjbBkM2D7n/Jd9WWvNPuz9//Mb31prn98+5+zfeI1POjpr7bn2XHNd5r/HmN8Y37CUEgKBwKsfxXkPIBAIbAcx2QOBniAmeyDQE8RkDwR6gpjsgUBPEJM9EOgJbmiym9kDZvZlM3vSzN5/swYVCARuPuzl8uxmNgDwNwDeCeBpAJ8B8NMppS/dvOEFAoGbheENfPctAJ5MKX0VAMzswwDeDaBzsk+n07S3t9faVtMfHZM2K6y1LUH+UKXOHbg/apv+vtEJzGQk1j6OBuhcde1PVqe67bB1n7nXwSAbXVYUclw36pr7P9sf8sZ97BhTLf1VVdV63k3nLvRa6J5qm++v5p3GKM/SPz8/vRbuc9N71bgu971uNN6lDvB16j09S3/z+RJlWbY23shkfy2Ar9H+0wB+YNMX9vb28MC7fry1bT6bn27rdUx3JqfbPAnqeumOq6uydRsA6jK/mGnTTaQ/LMXQ357haNQ6jkKecrnM5z4+nrm2+Xxxur2kMQHAcJDPt79/4XR7Op3444aD0+269n3MZse5/6W/P4zk/iDp/aA/ajR55gvf37VrB6fbR0dHrm2xmNNe7k+vZTqdnm7v7OzIKPIYZ/Pcf6r8eIdFvm/jse9/PKU+6dnO5d6U9L4kuaf8R61alt1tFf1gyUs8HOZ3pyh8W0q5j8Uy3ze9p/yc9DpP8MQTT7Z+Dmxhgc7MHjazy2Z2eTafXf8LgUDgluBGJvszAF5H+/euP3NIKT2SUro/pXT/dDLV5kAgsCXcyGT/DIA3mtkbzGwM4KcAfOzmDCsQCNxsvGyfPaVUmtm/AvCnAAYAfiul9MWbNrJAIHBTcSMLdEgp/TGAP75JYwkEArcQNzTZXyrmizmeeurvWtsWtNI7GY9c26U77zjd3tnNfr8J2eH2GzwI0S41r5r6owrLK91DWY3nleOCvrhcLNxxFdEnlax01zQwpYkGdD632j8QOokZA/HEBoP2R6qU0UaKjq6NxzQUGnETncRdmnWTUp4V8Kvg7nnyeHW1nA6rqoFrAz2Lwuhahv44ptv0maW6u62qmCpLrZ8DnpXR+zaZ5HHxs51M/Io7vy+TjvWvohi0fg5EuGwg0BvEZA8EeoKtmvF1VePg4FprGwfVLCTwYnc/myyjcf77NJDghMJFuKnpS+b5iI4Tk8qZrQPvTgys/W/jpsipYuDNKt+j74/dBg5m0aCXmgI5XGSZjIavbZMZ3wi+6YhqU6udTeHRyF9Z110ZjSRQifoweZ68N6D7qO4byHzWgCm/3+1CDan/VHk3gYNgBvK9RLvJRUf6PjiYquE60isymeT7qAFIfI+nUx+AdDq+Qffvd/yyBwI9QUz2QKAniMkeCPQEW/XZi8Kw0+FrcPIIGlRN3brd8Mtp36C+eLt/OVCqwn1NsrwocaXekJ3Efvp0R/6eJs7C0vFTG52a/T0AWFKyhGaAqU98grL0CRzzee7j8PCw9Tur7snPlfWHMZ3L9vxzrev2RI2B9MHPRf1N9s2H1FSVvo9qka9N/Xmm86wiOlNoVbDPPlT6ihOgZPxlfvb8Dus7wX56Less/lim3jy9trMzpbb2ebQpczB+2QOBniAmeyDQE2zVjLeiwM5uu/mxLDP90wgCsvYoq6QBXMY0kdByFFk2Go1PtwcaScVRUGL6co62i/YSt4Mj3obDsWszitDTwDWOumKTkO8NABwf55z1ppADRfmRSVdV3TnatUR78X3l69RIviGZ8cNRd+SWE/1Q16VdW2I9EKKy6B4Xes2DdjN4tZdat9VFsw7KEvCmu0aoFUU+t3cJfR8cXaeRgqMRu5icmz+S48a0rVRn+9jdWDtbAoHAqwox2QOBnmDLq/EFdnd3O1opCkqijziRomRzX6y5gqOxhv7vmFul5G2NirPuJBZeFa9Ixmg49qbdhFZ6R2NvxnOizUJknlxSCJmwpUhszVnySZJTHOtA49AIOr4fo3G7Sbg6jk1YvVd0nNxHNvl9FJ6YmR3XDAB1yavbFA0oXXAkpboJHBnH5264NawlJ/fKD7lbbmo86k5UmZLkVl11v9/DIesQDuS4rjGdDfHLHgj0BDHZA4GeICZ7INATbN1n5yggxmCQnZCy8hFjCaXby/2p/9RNWwyZbhts8kOJNhto9hNnovG5RRoY3WCRBNUu7xSU2NChapyzP1ixTvoGXXeNInQ6/c4fhhxHGYjiX/Kz4Pum95vHtVjMpI2upeyOTivcOPwr7SIK+fmJ3+zXPrp14xu0XME0a37nmnog9H4LpcuS6O6xb9D976bYgnoLBHqPmOyBQE+wXTPerKGrdToQiiJaLv2wFstcGYNpFtaEA+CSbMZjH6k3YBPLURii4cYmoQoVkFnFJmclVCGbmZrEwubXcin0D0cHugQUPw6uBqJCC130klJNzkTcYJ5rQpE7zp1X2qydQlJdPxbOKKXaCle3KUnnr5AxTel+jEee6mR3LrFb44frXKqkFj67jhp511EuTEU0FjR+TkICgLLM++ya7sK/wyN6h/W9PQvilz0Q6AlisgcCPUFM9kCgJ9iqzw6zhv95gsR67ckPK4F9snzc7t6+O25nmkNxh0LBsOBk2uBscjhrUwCD6CQSUGhQKRsrxnLZYGmifacbbxpyS33IuVn0sKra1wDWH+T+ZG2C91ijvVpKOGvR7c+PKNuPqb1NvqaWt+aqqCVl5g0184xFQif+Xo14jYh9al2PYd0QFfGkcRWN94XFOekrlb8Wfg9KEfhkH75rDWDVf77u8ah97WsTXXfdX3Yz+y0ze87MvkCfXTKzT5jZV9b/37Gpj0AgcP44ixn/2wAekM/eD+DxlNIbATy+3g8EAq9gXNeMTyn9bzN7vXz8bgBvW28/CuBTAN53/dOlRkbbCZbLTE2oJcJ6W3t72VS/eNvt/jjKMKskU8xF3jn6R0QGaHgqp86m5JJMdTXLnO6ZmGJsxja0yzlbjsQJ9LhUZ8pRXQguRcViG2resXm+iWIsKTNPswAZjSwvoj5ZGzBVGvGXt1nYAwAK0u0vSKCiEMGRAZm0Q6F2x7TvIvmGKkLBdry/Tr7HTWEL6sPatwHNzPNtrG3I762KirBrYA3llpNj2ucX8PIX6O5OKT273v46gLtfZj+BQGBLuOHV+LT6GehcFTCzh83sspldns3mXYcFAoFbjJe7Gv8NM7snpfSsmd0D4LmuA1NKjwB4BAAu3XlHUl23EyzJXDQxK6eUPDMmk36y4yOMWNp4MRMTiNyHglQvdOGVTbbFQiWcl7Rd0nfEdOJzSYJIYWdb2WWzT5NMwKaj/Lmu6zyuouw2Tfk41OLKkG293GDGbwjCQ0kuBLsJmvzDjIEKYLDmmi9JJYlHtN9wNJzpTm6S9sGuS6lRj3m7KSjB7A1dZ+FHwiIao6GWwGKRkW6JcnbROLqQod9hvNxf9o8BeHC9/SCAx15mP4FAYEs4C/X2uwD+L4DvMbOnzewhAB8E8E4z+wqAf7LeDwQCr2CcZTX+pzua3nGTxxIIBG4hthpBl1Jq+MEn4M8HWpoH7K91U1fOBzaleCiazJXs8f724WH2NY+P/ILibJ4z3Vj4UimSgoQ4NMtr1CHqAEiZZvaxhUZ0pYRqpVpIAKPmdQV/Lcs503KStVe1+43N6Kw83qU81qPDAzo3UZOqG++EJyQDcZBps9E437eGL0trJiYZZWOKqGO6Te89C3WyCMXq2Nw2GWvkWnsWo74TLKIxFXqQ7+tymc+tmYr83EupJXDa1walk4iNDwR6gpjsgUBPsN3yTzAMB+0a5YMim5xNPbNB67ZSV+boGY2QIhOLTF+NQGPapa68qeRoswGfe1NyRLfZqrRcl65YVUuyixu/H+OCXI3FgsQfll7frXL0kpZCyhg5/X2h6OhrhXmztSK3YU5uQtLyTGzGi8uj9+e0bzFvZ7N8bWwGA168wmnVNWuM0XH6XLq19vh6jNxD26iPKPQju1H8jpVCD3IF49CNDwQCXYjJHgj0BDHZA4GeYKs++2AwwIX9i61t7BfZwDsk0ylRMERhmNBr7O9oSVsuybtY1K2fA8CQfS0pQzym9YKyytvzRXe4aaN+Ge0PTAU26G8v0THqoy7mWYBzdnzk2nh/QTRU3UHVAMBIMsDYz2WqSdcUFkvWcvd9WsH0XV4f0NBiziRskEbWvr5RSR9HVMJaa+txCDWvpQwb7wcJWzQUOLmmgWQPslgI05QbhE8G8k4YvT98i4uhrgVRH8P23+ko2RwIBGKyBwJ9wXapNzOMxcw6QXHcndw/ZLqK2lSgInWUCwK8wASLOpQS+mWcsSZ0EkcnGVhnzp+Lz92Ib6Mxqz6dp+k4qkoi+Y4O8/bxgW8jM57HoWIKjs4UOonptvGYs7rUXcn9LyUKzz8LLvHk3YmlK+skJrKjMPOrWkl0mtNhFxOZXZm5EzcRU5rptg06bvo9PtSNv0EL5+1m9B5RezVRy0lpyrw9HLbTkmHGBwKBmOyBQF+wXSlpANaUFwAgFTzFEmFzkc1DXlUHvNk6O/LJ/Zxok6r2qrAAwERAEjeBzf8ZlXWaSYknXnFWg7CrLNKqjcsucX++/8Usm/GLub9O1vLje12oYAL9mS+E1WBXpqb+VHiCk2mWskLOh5ZVuxjGqo2foUaM0So4VTpVCW4uyaRRlbxa7sRHSjHjN2gD8kNUdoWfJ8uXqznthtyIrhu1HlfX7UIvQDNpKJ+38yvxyx4I9AUx2QOBniAmeyDQE2xdvEL9zxMwBZbEr5+TuN5w0E3RLRfZxzk+8pFlpfPZWTPd9zEZMwUj0V6URbbk7LKZCFOymELDibLONr9LIoriu5VcLloj4xKfO3/cKDVMTrWJH8prFRUdp9QYR+XV4rNXdCz77M1yVTTGhn59ewlkg1JXVP5JKCkWumCR0AQVhuguK+1LVnVnWnYTdr5VBTM56o/Loy2XmyIzr3eWJuKXPRDoCWKyBwI9wZbN+AqL+WFrW12zPrk3sQ4Orp5uczSZChB0lS3S/YpchoHQTgNkGsTE1EsVuQIkzrBcePqLqbdNQgib9QdI275RgZWSacQkHJCovJfkk+g0Mq0rpUPZXOTqt42qs6l9GxIpWLEJ7jHgKDnRp3MiIPS5yT0dkhmsJniq26m3pK7AwFq3tc+mic/uFlfNVYoub6soByflVCVp7ck9Leesnaju8OoEWgeBEb/sgUBPEJM9EOgJYrIHAj3B1sNlYe1Oxc4OZyR1Z1BxOChE33tAmVHTqa8DV9Ox8yOOfxTqytUQ9uMYUI043jYVhGR/VUtUk1/aCKV1O9b+OXxIL3RNoCNzTn12n67lmzgkdJMPuKnWG2fI8baGs8LpxneLQPIrYeLbcy25RjlkDnnma1HBSX4uqolCtJyrPwdPF1YkUNqoucZCkkIxstBKOaB3XehM1qVPqTuUtgtnKf/0OjP7pJl9ycy+aGbvXX9+ycw+YWZfWf9/x0s+eyAQ2BrOYsaXAH4hpfQmAG8F8HNm9iYA7wfweErpjQAeX+8HAoFXKM5S6+1ZAM+ut6+Z2RMAXgvg3QDetj7sUQCfAvC+TX0VZphO23Xjd/ey2V1JeBDrgrOJNR5P3XE7VML5wu6+PwGZVQdXr5xuz0X8oSop8k4owCmVIEp1vo4j0QMrl2QGq9gBbSvVZB265lrC2otIbIjCo5uVtEwUR9A1JNes7bCN4Vl6LT7SkXTaxEZmk1xpLXccnVwpKXabSm0jExyki1cMtMRTe9lkQLTrtJwXadwlom1VmITpZI2cZNegoPoJKvTBlG5XaeabJl5hZq8H8GYAnwZw9/oPAQB8HcDdL6WvQCCwXZx5spvZPoA/APDzKaWr3JZWUR+tf/fN7GEzu2xml49n87ZDAoHAFnCmyW5mI6wm+u+klP5w/fE3zOyedfs9AJ5r+25K6ZGU0v0ppft3ploBMxAIbAvX9dlt5QR8CMATKaVfpaaPAXgQwAfX/z923b6KAju7u61tk0n2v9VnZ0pmuSEUlf1c1QVnuqpa5nPVpa+BtphRxpeUOWYhxqLjcwBYDrs1zlO9wQl24acUYqrCgxtqyXUpmKRKFVy6fXanzFJ3+8p+UH7X1cLjIdXdSi8apuqGlKgTFaZkTk0z8yjkmbP7tBabEZWVSvWVM91blf694iw71tvXm6p6+b4PCtGmNQwtD83vToPCPPlcVXb4PJ0tGT8E4J8D+Csz+/z6s3+H1ST/qJk9BODvAbznDH0FAoFzwllW4/8PunM23nFzhxMIBG4Vtl7+aX+vvfwTZwKpSAKbNjMSOZzNvLl1TG1W+Ow6trQ5w66UCLrDQxZz9AIYkwmbWxRNNxjKcbltDh/pVJfdGWDOfK66o9iKojsai814jixL4mo0Mul4jHT/kzM/pZRVB/0DwF0cW5wNS53uI5eMWnXBlBe5UGqqc6ksGZMzfenzUeGf2YDM+HLpsxidiEkjci2fbzK9Pfc/8ia4GUe/+R74GfLtmU6mncc5l6HjmEZbZ0sgEHhVISZ7INATbDkRxlAU7eZH2hCqxauVQzIrS1lJd7rgS2+ec0TXkFZo5wspreS05Xz/LE7Aq7CFmMjjIptwer1snqsZzIISfC61zDhqazjSiC5OCmFhBd+HNyX1bz6v1NMXu+X0GmCdNXPRgCrmwZF2Og7WoMufqptXusQpZT8oao7ahqqVbxsSUDj6rfDfG1FUZVXu5f6FDSqcq6fVWWm89PlwKNfinkv7zW/eQzpPZ0sgEHhVISZ7INATxGQPBHqCLQtO1o46Y9SalUXgkrbs5y7E3z48zJSJikawWz0ZUw0xrZVGuualZKxhwYKF2X+aCM0ymeQspt0977sxFVTK+FmYgwUFNSpul6IQNQuLs6u8mIJfw+A1ksJUyIGOc3Sb+rm8LcKXdMNHXB565M/lxBeFkmLXvCrpvm2IRtNsM86WM6fdjs7jtAQ3i3lUpWY45nWdGdXg00zF0Tg/M6Vq+c7VPN5S/HLOYuykTrsp1fhlDwR6gpjsgUBPsFUzvq5rHElZphOwYEBDoyuRrjbTU2Jms95YqckMTCFRUkWSckSsRaY0BifoWJW3hxpIRvTSRLTwOIFhIZRdsaCkELL+R2Kq718gikfamHJcUH9p5gfpTOFGIkwXDepNRKbXVD9uTJQUR3uNJ90abjqQiu4xl1guRNSB0ShRxc+M6UD5Hrt96gLyu5mSuE1US2BB9QOUehtRUosJHWt1u3meNqmFNERANlchAOKXPRDoDWKyBwI9QUz2QKAn2KrPXlU1rl691trG9NJIQkCZ/inJd1NKin3DRvKPy1xi/9X7OmOqG6ZeULnkenTkey8lvJddyl3JriIaaiB045jWFUZjFjHwfu7+/oV8nOiYM902m7Of6G/InCTC2Dde7ZP/6kI03WHu/nNGIADs7OSMrfEkj0OfrRcgEZ+dfNkBlePWkNvabTfUM083+SpViMNp5avWP927wpTaY6oz39NShE+47LZSexWtPbl7vyGrsFnu29bjuUmCk4FA4DsXMdkDgZ5gyxF0KUfAibUxJNOsmYDPmVH0qUZtsQiAUEFOkKHuLp3DZrFSbymx6Z77mB/68rmLJQ/Sm9k7TD2ZUlnZFB5RlNVQhAq43HCt+nTUx3CY+x+PpURVyvenXCrVROIe5KLUIl7B0W9KvfF9ZNdoMOw24/V+FxWfO7eVYt0OKDtMaVB2XzYJdjCVpXmZ5lxMGSMHACbOWtT7vcGM50xOeq80c9PRzh0m/ia6Ln7ZA4GeICZ7INATbFmDrsDe3klCgKyCk3k70mQJinyaz7PJ3NRw40QHTSLImyWZQFrddEyRT5qwwCvwx/Oc9PD881JCqs77V694AYz9/ZwQcfGC1xjb2+dV6zyOuvbXcvVqjtQy8/3z91yE29BH8k0tn6sU29cKWqmnc2tUokuYUdeL7Vu3eq6VWmm/UQ6LnyeXbtL3g9yJobhG9Ip3VcltQu8HRzaKG0LviPOoNArPJSh5M76kKM45RQfORTyFzfiuiLlNrkr8sgcCPUFM9kCgJ4jJHgj0BFsXnMwUTXfkmkZZscPNNIVG0A3It2owE6wtTr6P6pgPaRxahhiWx3U8Y9HKF91hh4ckaHDs/bMFRYINVKiSauFNKbtKErkwo3WLqhKRjmHun++j6owPhnSdDTH3PC72IZvllmlbSyBzGeIB041CZ26g3hJFqyUWktToMS51Ldlmw0EHpSt9uNw7XX5w4pn+exyxx5Sg3lGmypJoz7tMRRJ3OT72wircx1iiKnPfN+Czm9nUzP7czP7CzL5oZr+8/vwNZvZpM3vSzD5iZu1nDwQCrwicxYyfA3h7Sun7ANwH4AEzeyuAXwHwayml7wbwAoCHbt0wA4HAjeIstd4SgBMuabT+lwC8HcDPrD9/FMAvAfjN6/SF5bI9em0XmRoaNLNYchslkmiCSFWyOaTJBmXrccVQddezGTiR8juTKVGAxEINht92xy2rTMtVQp+wBttFGeOSdNZYl0MNMzbrNcrqeEYCCnSv9vb23HE7O/l+T8b+OtkSdJGIpVBedC1DqTg6pD4H3CYRf4kMXvW8WI+tchGQ/jg240fy7kyneRxO6ENLMHE1Wa3wyta/tJU0rjm5aEl0/RInuyT/zBaL7JbNN5jxTLfxdbljbjQRxswG6wquzwH4BIC/BfBiys7H0wBee5a+AoHA+eBMkz2lVKWU7gNwL4C3APjes57AzB42s8tmdnk2a1eWDQQCtx4viXpLKb0I4JMAfhDA7Wany9P3Anim4zuPpJTuTyndP51O2g4JBAJbwHV9djN7DYBlSulFM9sB8E6sFuc+CeAnAXwYwIMAHrvu2VJCpQKP+Tx5UEPxd8iJHFJ4oooXliXprosmO/toTPFothb7deqzc1babJGpoAsX991xXDq6FmqM6TYbKLWXN13pYdVjIL+xkD68tkK38IQPpZV7kFgghEJRhdbi+z/Z8WsC42kOCx4RzVeJSGjdIba4Gj1Tb2jdBuAuriFWOuIsQKIztSw4bTcoXS6D3bhXtFNQrUF5zTkkltdmAGAxb69RqJltww01/k5vyoYo4LPw7PcAeNTMBlhZAh9NKX3czL4E4MNm9p8AfA7Ah87QVyAQOCecZTX+LwG8ueXzr2LlvwcCge8AbFe8As2MnxMw3aE66S76iMo3T4TuYY24WeH16dkcnU6ZdpLIMhaNEJNtQnTH7TSmu//Bnb6PUb6W5cILW3BW3d6+dxOGJIxQcbkmCekajvO4RmOfzYZEQhGsESc05Zj6kNvtsuyc/rm4PLtE5+3uKrWXXRvOSpvL/UhllzaglnNuFzABNlquTsyBTfeyVHEJPk4iGylebCSZkANXjpru1czTa1cPMgV7LG2sq8hjnEykrBhHWCr1tv5aU/glI2LjA4GeICZ7INATbDkRBlBNiRPUFeueLaSVdMR4FVWisSoyh46O/Wr87DibUawjNhqpvluGCgSMXERaNp9fc9cldxy7BnNhBQrSnZvueDONx+UrjnaPYySmNe8OaeVfXRI2rQtNCiFTkN2OoRjMO+QOjcWl4qg2Nk1rka1mF20TY8CuXRIJbt+HSizTPS3atwEvB6hS1Vbkcw+G3W5fMhKXWEhpMtot5R6wtiEzNMOBMguUXLTBXO9C/LIHAj1BTPZAoCeIyR4I9ARb9dkL86V8GfPjTJXVQosMh9kfZN9nNvf+8LVruY9vfvMF13Z8nDPRdqk0kWZQ7e3u0p7GahEtQn75XZfucEddIEpqKWWAypojpIT+oYgxzl5Sn5o19sfiizOlxmsAzahEFpJUUQrSmx+RLy4U4ISey0B+N5aU7cfloZtZjxQdqdFp7L9O2F/1PdTOh9daAkQxspio+N7s22+KwhuNu0O+05LLZnlwduVoLJl/7LO7MUkv1OhKbreesYn4ZQ8EeoKY7IFAT7B1DTo1SU9wTGa86mVPJtks5tJHmjJ7eJj7ePHFK67t4CBruc+INtPxXLiQI78WC28qjUaZEhxxJN/QR6dNmSIZ+iQZNuuvHV6VNhLVYPNToraGRAWpWAOXfBqQtpwKMjCD2VCgYzfBmfFCa3F/4npxNCObnJoY5MoVidY6j9kl7jTMbI4a9Pdqbz+/O2MS1Gg6aFTtVRpdIkyjlkDduq1VYpnOK0R7kF02Vbhj8D2o1f88HXvoxgcCvUdM9kCgJ4jJHgj0BFvOeksN8YITHB8d8YEOrtYZCfmpz35Efv+1g0PXduXKNfoe14vzf+8uXrztdHs69f2zmzQekf67iAvuUBjsbfveZy/r7F/OFz4zj6m4CQtDiCAkU17qb5dlXu+omeZTYQgXaqwht+RfTvJxlYgpcOaY6tdzCKsXYZBwWfreYu7XahgcIqxlnzn7kX10ALjzzrvycZQpVsp4lxvoQQ73VdqP1yP4Huj9YCi152g/ftXRvUbychC/7IFATxCTPRDoCbZrxidvLjGWS/7cm3pD1kan0r1lrTROt24bm5JHR1mP+0WhUjjyLolO2d5upux2SUhgR0QGRkzViMnGOnYDobIGZM5NiE7aES286YQEK8Q8Pz4mc5TudUqq/UZd1GriO8G+9s8BLCk7sSkGgVY0Sw1zWS4dI7kC1DaWEtaj3XyvNPuO9fGn9Px0vFzmSkuH1VW+zuVCKUbK0KSLVhPcXYtSe2y6O/16yb7DGbChFHX8sgcCPUFM9kCgJ9iyGV9jPl+2NxqLKfim2kUSUVTV0B84mWZzTuWd51T59IASZniVHvAm7ZUrPsLt9osXOrb9uXjleD7zbc4yE4+GV/VHVBV1PFL9OC6nJCIJVT6W3Xfjgy8AABlJSURBVBrV/uPkkUrcIV5J5u41+cKb8eJSsUlL7olW6OWV6aGsspfk2vE2pArqaMzmvqz2p3YmoCHBTeavRvlxROd83l1ZlaPrGjqKVf5euRStPY4AZKGMhgvIVYrbWa1Npn78sgcCPUFM9kCgJ4jJHgj0BFvPeoNEm50OhLLINEqJs7BYkK8YdWc4XRJBCab2uJzz8ZH3wV4kP51FKgFgdjRr3V7OVVQyb48nXiRhMsljnot+OLMmiX3P1O2JmQhKFOQ3DsjvV7rHlSFuiDS2U5gqfMmRdlpOyfn9qSuazp9bI8uKgnTeE0enaSRfblNdeqZZN9xGF415dHjg2g4pGlN9dldGeYeET+R+p86IQn/w5vtxYzF0Z/5lX5dt/pyZfXy9/wYz+7SZPWlmHzGz8fX6CAQC54eXYsa/F8ATtP8rAH4tpfTdAF4A8NDNHFggELi5OJMZb2b3AvinAP4zgH9jK1vj7QB+Zn3IowB+CcBvbuqnsAI7093WtkRRSqq9NSBzveCECDHj2RVQS4kTP9h8Zq35VVs2zw/FxOcECUfHzPxxCzIlWZACAPb3uVyTP/eETP4FjXE09KZpQfRMMfCmndMzY/fHl3f1muxikw2dNj+NVm7qmEpKLcR8ZrOYab9aaD5X1kl+e5h6UgEPBkfDHR36Z1EMXjzdPuRkK3nH5pQcdVXoWHbn6kr1EWlc5BtVtWj+cTKNul5Fe8Slmu2FE/Nod4ebEYr0/c4Wj18H8IvIb+edAF5M6ZTwfBrAa8/YVyAQOAdcd7Kb2T8D8FxK6bMv5wRm9rCZXTazy5qSGggEtoezmPE/BOAnzOxdAKYALgL4DQC3m9lw/et+L4Bn2r6cUnoEwCMA8Jq77ry+3m0gELglOEt99g8A+AAAmNnbAPzblNLPmtnvAfhJAB8G8CCAx67Xl5n5EsCEiukH4S2c+KLT3/Z9Me10WyNzKW+Xy9z/SPTDX3g+Z70dHXpxCaZ12A9dSgbVgvbnUrfu4oW8ZrEz9c7yrsvKov6W3s/dpQytkVB77Iuyj62CDJyVpvXuBkP29ZkP7K7Tpn2wBjyHKi+Xfg2DfdlGrTdaj+D+GjQfUW+zYwlnJcqOQ2RVzIPHeHTgnzs/65HWzCP/u6R7rOTakAVBGvX5uI2y3kSYkvvo8s1vhs/ehvdhtVj3JFY+/IduoK9AIHCL8ZKCalJKnwLwqfX2VwG85eYPKRAI3ApsN4LO0Jlc762qhpJ5bnGhX0LVkNkz2fGCD5fuype6t3cxf37Jl1t++mtfO91+7rlvurarV7IW/YLMvlLM/RmZqodiVu7v5nHt7/kx7u9lE39//5C2va7a/sW8vyN9jCftsU1zifJjKuvCBf8acIkuZ34KFeR044WWWy6zSzJjOlOi0/g+qjgGJ6wZPdtN+nHlXEUpyPWi/lW8gt2c5cK7GiM693Tc7a64e1D4a5mQAEkynXZMy7Hr0v1cVNji9PsbouwiNj4Q6AlisgcCPcHWNei6ku6lWI7f4+QZl0ijx+Vtjbga7WXBh0t3ZJOKyz2txkGVVBsWUW67djWbo0uJwuPV86vXvKQ1m9MzKXN1THEIMzJHF7KSXrIohZRM2iVTlSOzmlU/qYqrRIX5/XyuITRisbtE1cCtHFPfElGYnGktctROU5Ai7WqNGsx9KDPC8tds/is74aSf5R0dDVhcQlbj6R6zm6CZR4ORyyhybSyw4aPkulfjlf04OdutWo0PBALfQYjJHgj0BDHZA4GeYOvln9Q/PG0jf0eF9szRP0P6TncfKtYwJR/ntouZetvb9Vl4VcVlk8Xvouim56c50u7w0NNaTCdVpY+gW5JveCBZdZWLJsvjHakWOgsxisAi98Hj5Qw1ADDyDedLP/6S7wH59mPxE3eI3tRIROPsLYpcGwt15QQhzfvzJbi8VL6uJBlrXPa5UYqZP+CMQFnvYbFPjXDj9QjNNnNUsNOGFw18WktQoVQ+H7/7GknKQx4Mbl3WWyAQ+A5HTPZAoCfYsgZdN5yIwYYoIBdlJRQMNgghsPnFtMVEIs6+67ty1c9CzEX2LiZU/unKFdUsyxF1qllWUnRdreWOaMwLoqGO56KrdpzN7rGUnppMqUzSmPXa1fyksku1RJOxyenMXSnLRRFeDR27mpJOKqYzVaCCNfM00SZvM8WoJOKC+tekIaZ6Uwctudrnsku+bUIukFKMhbVTjIrktO79sxiReghrFqrG/tDpC3ZN3TDjA4HeIyZ7INATxGQPBHqCrfrsBmsk/5/AixhIuVui6yqmH4TuccJ90gf7nuw3T0T84fbbMy03Gvm/hbzP5Zu//e0X3XEcSnusYpROyEHqrxG9xKOfSZngq1SrTn23HRrXHiXLccYU4BMGF1J7jDXOC/o9UF/WhbqKr1zVvDZBlKisU7BAJpezBoCCxRvI562k1tsx1Q+cHYv0GV0Lh5tOZa1mTP7xaKDZZuxH+zUSphgrempKvSVXZ86vTUynuX8uMT3c6LN3UW+tH6/O290UCAReTYjJHgj0BNs1482bUoyyQahk+Ewg2lZTnWxTpXg4YooznGrR956QScWacACwR+IS8wXrovuxM821WPg+FmSSN0ogUxtromkJYRZXOBZxjCWJNTDtNBT3aThiykgoQHKphmRaD6z7t2Eh2nKLRbsZr5FrifYT1H3L20tyNeYiUDE7pgxBaWO3sUvLUPd1jOxUadQmu5wD7lPM+JK+OBRtOaZ/p1OKSuzQawS87t5ZEb/sgUBPEJM9EOgJtmzGm5MpZnCZJF2NZ121oVuB36BVp23UJ5vFqkVWULDaXCLXZiQ8wSIMQ1m136MST3vJm/HObBUdD16d5+qyR4deAOPg2jX6jh/jYp4FMSoao4ouTCm5RssRmUt+ycclyS6aEdOwEN02rp7KJbYGw+4INDXj5+TWHFw7bt0GgPkx3QMp1Tqh1e1dinocj/SauwUw2B0yYSTGRe5zMOJKxBpRmN85TRriJKUJRUTqca7M1dzrHuaxdpdmiF/2QKAniMkeCPQEMdkDgZ5g61lvg0H73xeOCNJjpuRrDQZU1lj8RKYjVNiSBRlYoGK+kCwsEnxYiKgDlxZi/0lFBlhnXCPceF8jADm6bEb68tc0+o2EGDUzj8fvhqWa7B2iDqs2pik5+s3TPXO6/6pLz0U8lxRdp9lmntby4+AMtuOjvBaxkHPxfdMITY5+421ZOnAlnqpKxSgpm1KoY+MS4uR7N66z2vBu0ru06KBOAU+5Hso6Tv5ONyV31vrsTwG4hlV2YZlSut/MLgH4CIDXA3gKwHtSSi909REIBM4XL8WM/9GU0n0ppfvX++8H8HhK6Y0AHl/vBwKBVyhuxIx/N4C3rbcfxaoG3Ps2fcHMGpFLJ5hOOcJItc6YviIze+Fpp/kim3rzmW+ryLxhU1cTB1Jic8ubRM4VKNkt8GYf99mI8qPkBi0lxPQYt03EjN8ZE12luvFk/nPUnEbrzYiuWszFHSKzOLnPpVot3X8149nE5+Qf1cDn6EM14znyjrX2kjyXIWvtiUjHiPTe+NXT6km10y9UXT8ao1wnWMudot9Uf4Wr1y7FHeJaCMeUyKOuAFeJPTjwgimnY9W+CWf9ZU8A/szMPmtmD68/uzul9Ox6++sA7j5jX4FA4Bxw1l/2H04pPWNm3wXgE2b219yYUkpm1srmr/84PAwAFy/utx0SCAS2gDP9sqeUnln//xyAP8KqVPM3zOweAFj//1zHdx9JKd2fUrrfm+OBQGCbuO4vu5ntAShSStfW2z8G4D8C+BiABwF8cP3/Y2foq4V6WYHDBNWv59BDpim0VhqHlTL1A/g6Xz6UUUUOy47jfDYbh5hq9Tq+QhV8GLLAhtwKPpQzo3amXmhhgGwhJYm55THyuZeSlcYZduy/A96/9+ydPxeLQGqUJosoMoM0X3RnxzUyuVz5YqLNJvLa0u1RwQdmPhNl99Xy3FmLfjhWXo516f07we8Vr2Go9rwrMy03i9c7eL1EQ765/27qrb2WInA2M/5uAH+0jlcfAvjvKaU/MbPPAPiomT0E4O8BvOcMfQUCgXPCdSd7SumrAL6v5fNvA3jHrRhUIBC4+dh6BF2HFY8xZ2HJQZzZdXiYs32uXr3ijjs4yKZNKRSP0wArWNCge6ysaQ4AYzJN2cLXCDpum4quO7solWRXLROXjWJKSvXa2VT39N2QfANm/RaSwcdm/JGUr+KoOTaLCxFd4BNoeamdnSz04bT2JMOOLdpZ8tls7Ebt71M22Mify2XjqX49WdNlyi5DEoqK34md/T3XlhLp+QtNyVpzR8fZrdTsON5XbUOmXJmqraqzRdr5sUbWWyDQe8RkDwR6gpjsgUBPsN2SzSk1KKATbCo16ykHrqPmqTcO5ywG4rttEKP0Y+ymLpxgIfNm4icNyNecTnekjekwCeklP71cdmc/cXnhWnzDmjK0OKyUBTIB73suFr7/IWUWsg79eOrXH/geTyhUFAAuXMj6+xz2Wsg6CIsqXr121bWxlM/uXh6Hqt2wZn0ltFZNxCg/JqXQeFxjeWbcNhiKMhBRh6xwYzKOMa2zqALNiK7HU3YqZJq/N5X7fXreDe92/LIHAj1BTPZAoCfYqhlf1xUOj9ojfw4OrtFxqmOe951ohITj7+yQoOBYTM6CM8Uom0roL45mUlPPlSqyfOsmY/83k0sJ7U53XRtbWZoR58oL1yTWINGA1ZJNUy0rzdGGrC/vBQpZmHA88ibh7m15zHfcccfp9v7FC+445hgnQjHu7/Ox+bjdPZ8fceFiNveff/5bro3dNBb11MyucpH3l6W4Yf6G502JjiyG+R4M5H6w+Twa+7Zxh4a/PhfWhtd7xfte277uPO7CBXkWp2PtntLxyx4I9AQx2QOBnmC7ZnxKDZGDE7A5vSmYn1fttTwOJ0voaqXRCjabgToezxaoGc8tFBElOnNudVVXR1PdtrkaF60qczVSZiAAYDmj0kq6Uk8sQZ34Oj1zwRVBd3f8+Hd3sxnPZvbF229zx3FUmK6Qc5Qb37edXRWGyONfCDvB/ZdVbisboiK0XWuUX95njfrGqjVFIlpDN5DbpHtOiKIHqtVq+d1UDX/ug6NHNQqPoy+7MkhV85ARv+yBQE8Qkz0Q6AlisgcCPcF2s95S6hTE80yF/xvENAn7LUqvjUesC+79+a5koEKVB9mX0++wICK1NfxyorWWc80oI9EI8aPZN79yJQsKHlzz4oLLeXvGEwCMJ+QbuihCrZ/HNI7SYZnW2dvLGWA7Oz4bzAZMh3kflYUTeR2kUn+7ZLGQ7mdxPKM6eDMfhVlS1GANrSWY++DsNUv+mXGb6uj74/x1MnvK72Nj3YlewEr14CkrkN/TgQhgcGbhxYt+/aTrO4z4ZQ8EeoKY7IFAT7Bl8QpraINz2+lWo9oyJ7FsoE/c3y6lzciMosSMZqnhbFpruaOaorMqMoPrsVKAlIyCbq31wyNPqV25mqMIn38+C3MoPchJOOOG5tqA2tit8ebdLpnn0x1PUzKNtiReay6CIOMif08TUFjI4ZhKO6v2fEkm/kJ18ujcszmX7BJhEopmbLw89B4UtK2aeT7iTUtlMaUm70QHTawCLKwn1xC24HLiNLAEPVduU6qzra/GmDpbAoHAqwox2QOBniAmeyDQE2xdcNLs5ZySRfjyp/O56p1T6d6R96VYlPCY9OavHfgsvG9969un21oaeGeSfdQ9EnK4sKMUIGdaCSVF/iv75QBw9Voey+FRPreGBb/mrkun2xcvejpsQtQbZ1o1aEqicYbSPwtdfOvbuTDvzsz7yrfdnjPiNEPwiKi3g8NMHc5mXlSSBTyS+L8zrhFHfrpmttkg0TZ8G9gHbq9hB0jNPKmfx7vlUmk/rg3YXa+QQ5BHQy+YyWABE12rOR5w2eouwckN4iudLYFA4FWFmOyBQE+wZQ06b44xauVCCCo0kPvTjC+incZiihG1cnSUTckDMeOvXs06aMdH3uQ8okyuOdFV9QUvUDHl8kTmx3E8p3NLCZ9jKjPNFOV4IvpunIkmxTKLIl8nm/+aJaWuAYMjug6OMx14vPDXYgPS0ZdaVkwr8j0+OpZoQM50k1eAy1CVjrITfUEWpZBx8DvB79HAukU/FJzNxoIgADBfsKuR2zhTbtU/iaeIFc+0HEcb6vvB1OS0I+tNS3O7MXS28GDMbjez3zezvzazJ8zsB83skpl9wsy+sv7/juv3FAgEzgtnNeN/A8CfpJS+F6tSUE8AeD+Ax1NKbwTw+Ho/EAi8QnGWKq63AfgRAP8CAFJKCwALM3s3gLetD3sUwKcAvG9TX1VVNczmE7B5pEkrvLLJ5lbTjCexA9GWYzeBzXithsltRxLhthiQyUkJHVOp+mkFrwBLiSeuJivRb7v7HPGWV89vu+2iO+6OS3k1fjrx5uIRafyxtPFEvSSOSpSmKlHSCUXCzZciyEB6bJqA4Ux3vqfHshpPK/+1PE8f1EYmuJjIXKJqKGWoWESD3w9IQo6TBt+gDahJLFwt+CpFQGqk6IxctB0RVmFpaZ4H1w68y1O4xKN2d7hLqh042y/7GwB8E8B/M7PPmdl/XZduvjul9Oz6mK9jVe01EAi8QnGWyT4E8P0AfjOl9GYAhxCTPa1Wv1pX2MzsYTO7bGaXu4rRBQKBW4+zTPanATydUvr0ev/3sZr83zCzewBg/f9zbV9OKT2SUro/pXS/VvoMBALbw1nqs3/dzL5mZt+TUvoyVjXZv7T+9yCAD67/f+x6fVVVhStXrrS2OT148SLZ79rss2e/cbnQ0roUQXfMfrn3ITkqb6nZVRSptaTotNQoE9x9W1lPYpL0b20e/2SS6by9fU+vjfiPpjjcLCLBkWZDibjiiLeRZMS5zCuy11R4ZE7+qpbbcoIVHGXWKENMmu8qOEldjsZcstnft9GYdd39D8qA13uoQ31mLPSh6w8sLqqCjv5YotDk/Tsgf34m7xxrvde0lsCRnoDPlkvthrRQlB5n5dn/NYDfMbMxgK8C+JdYWQUfNbOHAPw9gPecsa9AIHAOONNkTyl9HsD9LU3vuLnDCQQCtwpbjaCrqgovPP9iaxtHuGni/9nN+Py92Vw16HL/TJcwtQR4s1IpQK+TnvsfSzTTlIQhOKINAKqaNeh8ooOLmhvlPgsxK+ck5KDi8/NFu/lcivk8neRz78r4B05/P5vPVmjUXbsgCOBFFNj05WcJeKppNpMIPbK0p6z1JpTldErvhySgMMPGFJpp2awhl13yYxySid8UTOGquXn74JpQuqQveCR1AEAJOhwN2NCNp+vWhKI8hkiECQR6j5jsgUBPEJM9EOgJti5e0YjNPMsxTv68Wws9EAh0I37ZA4GeICZ7INATWOqqi3QrTmb2TawCcO4C8K2tnbgdr4QxADEORYzD46WO4x+mlF7T1rDVyX56UrPLKaW2IJ1ejSHGEePY5jjCjA8EeoKY7IFAT3Bek/2Rczov45UwBiDGoYhxeNy0cZyLzx4IBLaPMOMDgZ5gq5PdzB4wsy+b2ZNmtjU1WjP7LTN7zsy+QJ9tXQrbzF5nZp80sy+Z2RfN7L3nMRYzm5rZn5vZX6zH8cvrz99gZp9eP5+PrPULbjnMbLDWN/z4eY3DzJ4ys78ys8+b2eX1Z+fxjtwy2fatTXZbFVb/LwB+HMCbAPy0mb1pS6f/bQAPyGfnIYVdAviFlNKbALwVwM+t78G2xzIH8PaU0vcBuA/AA2b2VgC/AuDXUkrfDeAFAA/d4nGc4L1YyZOf4LzG8aMppfuI6jqPd+TWybanlLbyD8APAvhT2v8AgA9s8fyvB/AF2v8ygHvW2/cA+PK2xkJjeAzAO89zLAB2Afw/AD+AVfDGsO153cLz37t+gd8O4ONYJTycxzieAnCXfLbV5wLgNgB/h/Va2s0exzbN+NcC+BrtP73+7LxwrlLYZvZ6AG8G8OnzGMvadP48VkKhnwDwtwBeTOlUNH5bz+fXAfwisoLDnec0jgTgz8zss2b28PqzbT+XWyrbHgt02CyFfStgZvsA/gDAz6eUrnLbtsaSUqpSSvdh9cv6FgDfe6vPqTCzfwbguZTSZ7d97hb8cErp+7FyM3/OzH6EG7f0XG5Itv162OZkfwbA62j/3vVn54UzSWHfbJjZCKuJ/jsppT88z7EAQErpRQCfxMpcvt3MTtKet/F8fgjAT5jZUwA+jJUp/xvnMA6klJ5Z//8cgD/C6g/gtp/LDcm2Xw/bnOyfAfDG9UrrGMBPAfjYFs+v+BhWEtjAGaWwbxS2Emb7EIAnUkq/el5jMbPXmNnt6+0drNYNnsBq0v/ktsaRUvpASunelNLrsXof/ldK6We3PQ4z2zOzCyfbAH4MwBew5eeSUvo6gK+Z2fesPzqRbb8547jVCx+y0PAuAH+DlX/477d43t8F8CyAJVZ/PR/Cyjd8HMBXAPxPAJe2MI4fxsoE+0sAn1//e9e2xwLgHwP43HocXwDwH9af/yMAfw7gSQC/B2CyxWf0NgAfP49xrM/3F+t/Xzx5N8/pHbkPwOX1s/kfAO64WeOICLpAoCeIBbpAoCeIyR4I9AQx2QOBniAmeyDQE8RkDwR6gpjsgUBPEJM9EOgJYrIHAj3B/wfS0XGP5N75igAAAABJRU5ErkJggg==\n",
      "text/plain": [
       "<Figure size 432x288 with 1 Axes>"
      ]
     },
     "metadata": {
      "needs_background": "light",
      "tags": []
     },
     "output_type": "display_data"
    },
    {
     "name": "stdout",
     "output_type": "stream",
     "text": [
      "Image #4309 True label: horse Predicted Label: bird\n"
     ]
    },
    {
     "data": {
      "image/png": "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\n",
      "text/plain": [
       "<Figure size 432x288 with 1 Axes>"
      ]
     },
     "metadata": {
      "needs_background": "light",
      "tags": []
     },
     "output_type": "display_data"
    }
   ],
   "source": [
    "import random\n",
    "import matplotlib.pyplot as plt\n",
    "from matplotlib.pyplot import show\n",
    "for i in range(5):\n",
    "  random_image = random.randint(0,5000)\n",
    "  print(\"Image #{} True label: {} Predicted Label: {}\".format(random_image, imgLabel[y_true[random_image]], imgLabel[pred[random_image]]))\n",
    "  plt.imshow(x_test[random_image])\n",
    "  show()"
   ]
  },
  {
   "cell_type": "code",
   "execution_count": 33,
   "metadata": {
    "id": "PmmUnrChHmK-"
   },
   "outputs": [],
   "source": []
  }
 ],
 "metadata": {
  "accelerator": "GPU",
  "anaconda-cloud": {},
  "colab": {
   "collapsed_sections": [],
   "name": "CSC180_Transfer_learning_project(80% cifar-10 dataset).ipynb",
   "provenance": [],
   "toc_visible": true
  },
  "kernelspec": {
   "display_name": "Python 3",
   "language": "python",
   "name": "python3"
  },
  "language_info": {
   "codemirror_mode": {
    "name": "ipython",
    "version": 3
   },
   "file_extension": ".py",
   "mimetype": "text/x-python",
   "name": "python",
   "nbconvert_exporter": "python",
   "pygments_lexer": "ipython3",
   "version": "3.7.7"
  }
 },
 "nbformat": 4,
 "nbformat_minor": 1
}
